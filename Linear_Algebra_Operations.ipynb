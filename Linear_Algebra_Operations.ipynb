{
  "nbformat": 4,
  "nbformat_minor": 0,
  "metadata": {
    "colab": {
      "provenance": [],
      "authorship_tag": "ABX9TyPoRJ0zeZu+Xl/Gxq6hFDK4",
      "include_colab_link": true
    },
    "kernelspec": {
      "name": "python3",
      "display_name": "Python 3"
    },
    "language_info": {
      "name": "python"
    }
  },
  "cells": [
    {
      "cell_type": "markdown",
      "metadata": {
        "id": "view-in-github",
        "colab_type": "text"
      },
      "source": [
        "<a href=\"https://colab.research.google.com/github/MohneetKaur/Computer-Vision-with-Python-and-Tensorflow/blob/main/Linear_Algebra_Operations.ipynb\" target=\"_parent\"><img src=\"https://colab.research.google.com/assets/colab-badge.svg\" alt=\"Open In Colab\"/></a>"
      ]
    },
    {
      "cell_type": "code",
      "execution_count": 32,
      "metadata": {
        "id": "wWWVu3WWs2mX"
      },
      "outputs": [],
      "source": [
        "import tensorflow as tf"
      ]
    },
    {
      "cell_type": "code",
      "source": [
        "#Matrix Multiplication\n",
        "\n",
        "x_1 = tf.constant([[1,2,0]])\n",
        "x_2 = tf.constant([[1,2,0,2],\n",
        "                   [3,5,-1,2],\n",
        "                   [4,5,6,0]])\n",
        "\n",
        "print(x_1.shape,x_2.shape)\n",
        "tf.linalg.matmul(x_1,x_2,transpose_a=False,transpose_b=False,adjoint_a=False,\n",
        "                 adjoint_b=False,a_is_sparse=False,b_is_sparse=False,output_type=None,\n",
        "                 name=None\n",
        "                 )"
      ],
      "metadata": {
        "colab": {
          "base_uri": "https://localhost:8080/"
        },
        "id": "XGlc41rAtJSU",
        "outputId": "48fe8835-9850-4d96-cca7-bc312ceddf07"
      },
      "execution_count": 33,
      "outputs": [
        {
          "output_type": "stream",
          "name": "stdout",
          "text": [
            "(1, 3) (3, 4)\n"
          ]
        },
        {
          "output_type": "execute_result",
          "data": {
            "text/plain": [
              "<tf.Tensor: shape=(1, 4), dtype=int32, numpy=array([[ 7, 12, -2,  6]], dtype=int32)>"
            ]
          },
          "metadata": {},
          "execution_count": 33
        }
      ]
    },
    {
      "cell_type": "code",
      "source": [
        "# ALternate method for matrix multiplication\n",
        "x_1@x_2"
      ],
      "metadata": {
        "colab": {
          "base_uri": "https://localhost:8080/"
        },
        "id": "-HLIA9J7vop1",
        "outputId": "0b42aedc-23ae-4226-9c84-3828eec2f66e"
      },
      "execution_count": 34,
      "outputs": [
        {
          "output_type": "execute_result",
          "data": {
            "text/plain": [
              "<tf.Tensor: shape=(1, 4), dtype=int32, numpy=array([[ 7, 12, -2,  6]], dtype=int32)>"
            ]
          },
          "metadata": {},
          "execution_count": 34
        }
      ]
    },
    {
      "cell_type": "code",
      "source": [
        "x_2 = tf.constant([[1,2,0,2],\n",
        "                   [3,5,-1,2],\n",
        "                   [4,5,6,0]])\n",
        "x_1 = tf.constant([[1,2,0]])\n",
        "\n",
        "\n",
        "print(x_1.shape,x_2.shape)\n",
        "tf.linalg.matmul(x_2,x_1,transpose_a=True,transpose_b=True,adjoint_a=False,\n",
        "                 adjoint_b=False,a_is_sparse=False,b_is_sparse=False,output_type=None,\n",
        "                 name=None\n",
        "                 )"
      ],
      "metadata": {
        "colab": {
          "base_uri": "https://localhost:8080/"
        },
        "id": "QTbaQU2QvKxY",
        "outputId": "f6b79753-4880-43cb-9716-b4fe166bf7f2"
      },
      "execution_count": 35,
      "outputs": [
        {
          "output_type": "stream",
          "name": "stdout",
          "text": [
            "(1, 3) (3, 4)\n"
          ]
        },
        {
          "output_type": "execute_result",
          "data": {
            "text/plain": [
              "<tf.Tensor: shape=(4, 1), dtype=int32, numpy=\n",
              "array([[ 7],\n",
              "       [12],\n",
              "       [-2],\n",
              "       [ 6]], dtype=int32)>"
            ]
          },
          "metadata": {},
          "execution_count": 35
        }
      ]
    },
    {
      "cell_type": "code",
      "source": [
        "x_2 = tf.constant([[1,2,0,2],\n",
        "                   [3,5,-1,2],\n",
        "                   [4,5,6,0]])\n",
        "x_1 = tf.constant([[1,2,0]])\n",
        "\n",
        "print(tf.transpose(x_2)@tf.transpose(x_1))"
      ],
      "metadata": {
        "colab": {
          "base_uri": "https://localhost:8080/"
        },
        "id": "bgceXIkXxNxX",
        "outputId": "03e1c9d4-54b5-4414-b723-ee7e9733cd90"
      },
      "execution_count": 36,
      "outputs": [
        {
          "output_type": "stream",
          "name": "stdout",
          "text": [
            "tf.Tensor(\n",
            "[[ 7]\n",
            " [12]\n",
            " [-2]\n",
            " [ 6]], shape=(4, 1), dtype=int32)\n"
          ]
        }
      ]
    },
    {
      "cell_type": "code",
      "source": [
        "# Transpose of a matrix\n",
        "\n",
        "x_1 = tf.constant([[1,2,0,2],\n",
        "                   [3,5,-1,2],\n",
        "                   [4,5,6,0]])\n",
        "\n",
        "x_1_transpose = tf.transpose(x_1)\n",
        "\n",
        "print('x_1 shape:',x_1.shape)\n",
        "print('x_1_transpose shape:',x_1_transpose.shape)"
      ],
      "metadata": {
        "colab": {
          "base_uri": "https://localhost:8080/"
        },
        "id": "1pv1tlSTvd7a",
        "outputId": "32b36f58-1bcd-43f0-e181-e9ee59122579"
      },
      "execution_count": 37,
      "outputs": [
        {
          "output_type": "stream",
          "name": "stdout",
          "text": [
            "x_1 shape: (3, 4)\n",
            "x_1_transpose shape: (4, 3)\n"
          ]
        }
      ]
    },
    {
      "cell_type": "code",
      "source": [
        "# Matrix Multiplication in batches\n",
        "\n",
        "x_1 = tf.constant([[[1,2],\n",
        "                    [3,5]],\n",
        "\n",
        "                   [[10,2],\n",
        "                    [1,0]],\n",
        "\n",
        "                   [[5,8],\n",
        "                    [2,7]]])\n",
        "\n",
        "# (2,2)*(2,3) --> (2,3)\n",
        "\n",
        "x_2 = tf.constant([[[5,1,4],\n",
        "                    [34,15,1]],\n",
        "\n",
        "                   [[1,2,2],\n",
        "                    [5,3,2]],\n",
        "\n",
        "                   [[2,2,3],\n",
        "                    [1,1,1]]])\n",
        "\n",
        "print('Matrix Multiplication: \\n',tf.linalg.matmul(x_1,x_2))"
      ],
      "metadata": {
        "colab": {
          "base_uri": "https://localhost:8080/"
        },
        "id": "BYKnuLg7v4xP",
        "outputId": "800b920b-2974-4108-efe5-654465de23a8"
      },
      "execution_count": 38,
      "outputs": [
        {
          "output_type": "stream",
          "name": "stdout",
          "text": [
            "Matrix Multiplication: \n",
            " tf.Tensor(\n",
            "[[[ 73  31   6]\n",
            "  [185  78  17]]\n",
            "\n",
            " [[ 20  26  24]\n",
            "  [  1   2   2]]\n",
            "\n",
            " [[ 18  18  23]\n",
            "  [ 11  11  13]]], shape=(3, 2, 3), dtype=int32)\n"
          ]
        }
      ]
    },
    {
      "cell_type": "code",
      "source": [
        "# Adjoint of a matrix\n",
        "\n",
        "x = tf.constant([[1,2,0],\n",
        "                   [3,5,-1],\n",
        "                   [4,5,6]])\n",
        "\n",
        "tf.linalg.adjoint(x)"
      ],
      "metadata": {
        "colab": {
          "base_uri": "https://localhost:8080/"
        },
        "id": "ss4ME7etySfo",
        "outputId": "5a4d6845-9a90-4f96-cc28-535c0fc9d842"
      },
      "execution_count": 39,
      "outputs": [
        {
          "output_type": "execute_result",
          "data": {
            "text/plain": [
              "<tf.Tensor: shape=(3, 3), dtype=int32, numpy=\n",
              "array([[ 1,  3,  4],\n",
              "       [ 2,  5,  5],\n",
              "       [ 0, -1,  6]], dtype=int32)>"
            ]
          },
          "metadata": {},
          "execution_count": 39
        }
      ]
    },
    {
      "cell_type": "code",
      "source": [
        "# band_part\n",
        "\n",
        "tensor_two_d = tf.constant([[1,-2,0],\n",
        "                            [3,5,100],\n",
        "                            [1,5,6],\n",
        "                            [2,3,8]],dtype=tf.float16)\n",
        "\n",
        "### in_band(m, n) = (num_lower < 0 || (m-n) <= num_lower)) && (num_upper < 0 || (n-m) <= num_upper)\n",
        "\n",
        "# m--rows, n--columns\n",
        "\n",
        "tf.linalg.band_part(input=tensor_two_d,num_lower=0,num_upper=0)"
      ],
      "metadata": {
        "colab": {
          "base_uri": "https://localhost:8080/"
        },
        "id": "nzxNmFcA0oza",
        "outputId": "4c3949af-c538-4951-dcef-a8378808638b"
      },
      "execution_count": 40,
      "outputs": [
        {
          "output_type": "execute_result",
          "data": {
            "text/plain": [
              "<tf.Tensor: shape=(4, 3), dtype=float16, numpy=\n",
              "array([[1., 0., 0.],\n",
              "       [0., 5., 0.],\n",
              "       [0., 0., 6.],\n",
              "       [0., 0., 0.]], dtype=float16)>"
            ]
          },
          "metadata": {},
          "execution_count": 40
        }
      ]
    },
    {
      "cell_type": "code",
      "source": [
        "\"\"\"\n",
        "tensor_two_d_m_n = tf.constant([[0,-1,-2],\n",
        "                                [1,0,-1],\n",
        "                                [2,1,0],\n",
        "                                [3,2,1]],dtype=tf.float16)\n",
        "\n",
        "tensor_two_d_n_m = tf.constant([[0,1,2],\n",
        "                                [-1,0,1],\n",
        "                                [-2,-1,0],\n",
        "                                [-3,-2,-2]],dtype=tf.float16)\n",
        "\n",
        "\"\"\""
      ],
      "metadata": {
        "colab": {
          "base_uri": "https://localhost:8080/",
          "height": 105
        },
        "id": "VnUIQVrL-5eT",
        "outputId": "8984fbc7-20f2-455c-e894-accc49021622"
      },
      "execution_count": 41,
      "outputs": [
        {
          "output_type": "execute_result",
          "data": {
            "text/plain": [
              "' \\ntensor_two_d_m_n = tf.constant([[0,-1,-2],\\n                                [1,0,-1],\\n                                [2,1,0],\\n                                [3,2,1]],dtype=tf.float16) \\n\\ntensor_two_d_n_m = tf.constant([[0,1,2],\\n                                [-1,0,1],\\n                                [-2,-1,0],\\n                                [-3,-2,-2]],dtype=tf.float16)\\n\\n'"
            ],
            "application/vnd.google.colaboratory.intrinsic+json": {
              "type": "string"
            }
          },
          "metadata": {},
          "execution_count": 41
        }
      ]
    },
    {
      "cell_type": "code",
      "source": [
        "# Use Cases of band_part --> Upper triangular matrix\n",
        "\n",
        "tf.linalg.band_part(input=tensor_two_d, num_lower=0,num_upper=-1)"
      ],
      "metadata": {
        "colab": {
          "base_uri": "https://localhost:8080/"
        },
        "id": "Wn6iQGEG_mAI",
        "outputId": "78767b5f-b691-40f0-9a79-fa9a30529b87"
      },
      "execution_count": 42,
      "outputs": [
        {
          "output_type": "execute_result",
          "data": {
            "text/plain": [
              "<tf.Tensor: shape=(4, 3), dtype=float16, numpy=\n",
              "array([[  1.,  -2.,   0.],\n",
              "       [  0.,   5., 100.],\n",
              "       [  0.,   0.,   6.],\n",
              "       [  0.,   0.,   0.]], dtype=float16)>"
            ]
          },
          "metadata": {},
          "execution_count": 42
        }
      ]
    },
    {
      "cell_type": "code",
      "source": [
        "# Use Cases of band_part --> Lower triangular matrix\n",
        "\n",
        "tf.linalg.band_part(input=tensor_two_d, num_lower=-1, num_upper=0)"
      ],
      "metadata": {
        "colab": {
          "base_uri": "https://localhost:8080/"
        },
        "id": "A1dECKRh_zhP",
        "outputId": "67779b52-1f6d-40ca-86db-adec92a70b94"
      },
      "execution_count": 43,
      "outputs": [
        {
          "output_type": "execute_result",
          "data": {
            "text/plain": [
              "<tf.Tensor: shape=(4, 3), dtype=float16, numpy=\n",
              "array([[1., 0., 0.],\n",
              "       [3., 5., 0.],\n",
              "       [1., 5., 6.],\n",
              "       [2., 3., 8.]], dtype=float16)>"
            ]
          },
          "metadata": {},
          "execution_count": 43
        }
      ]
    },
    {
      "cell_type": "code",
      "source": [
        "# Use Cases of band_part --> Diagonal\n",
        "\n",
        "tf.linalg.band_part(input=tensor_two_d, num_lower=0, num_upper=0)"
      ],
      "metadata": {
        "colab": {
          "base_uri": "https://localhost:8080/"
        },
        "id": "zIc0c-Gw6hNJ",
        "outputId": "18e94a33-c929-4f80-ca9d-ad1f737fbf44"
      },
      "execution_count": 44,
      "outputs": [
        {
          "output_type": "execute_result",
          "data": {
            "text/plain": [
              "<tf.Tensor: shape=(4, 3), dtype=float16, numpy=\n",
              "array([[1., 0., 0.],\n",
              "       [0., 5., 0.],\n",
              "       [0., 0., 6.],\n",
              "       [0., 0., 0.]], dtype=float16)>"
            ]
          },
          "metadata": {},
          "execution_count": 44
        }
      ]
    },
    {
      "cell_type": "code",
      "source": [
        "# Determinant of a matrix\n",
        "\n",
        "x = tf.constant([[1,2,0],\n",
        "                 [2,3,4],\n",
        "                 [1,0,0]], dtype=tf.float32)\n",
        "\n",
        "print('Determinant:',tf.linalg.det(input=x, name=None))"
      ],
      "metadata": {
        "colab": {
          "base_uri": "https://localhost:8080/"
        },
        "id": "pyZSZJZz6l_v",
        "outputId": "441faa13-d9fa-47d7-da60-66c5a0db416b"
      },
      "execution_count": 45,
      "outputs": [
        {
          "output_type": "stream",
          "name": "stdout",
          "text": [
            "Determinant: tf.Tensor(8.0, shape=(), dtype=float32)\n"
          ]
        }
      ]
    },
    {
      "cell_type": "code",
      "source": [
        "# Inverse of a matrix - should be a square matrix\n",
        "\n",
        "x = tf.constant([[1,2,0],\n",
        "                 [2,3,4],\n",
        "                 [1,0,0]], dtype=tf.float32)\n",
        "\n",
        "x_inv = tf.linalg.inv(input=x, name=None)\n",
        "\n",
        "print(x_inv)"
      ],
      "metadata": {
        "colab": {
          "base_uri": "https://localhost:8080/"
        },
        "id": "G2X9xoL--RdG",
        "outputId": "adbd1771-ea3c-4070-c69b-4dac27a01705"
      },
      "execution_count": 46,
      "outputs": [
        {
          "output_type": "stream",
          "name": "stdout",
          "text": [
            "tf.Tensor(\n",
            "[[ 0.     0.     1.   ]\n",
            " [ 0.5   -0.    -0.5  ]\n",
            " [-0.375  0.25  -0.125]], shape=(3, 3), dtype=float32)\n"
          ]
        }
      ]
    },
    {
      "cell_type": "code",
      "source": [
        "# Matrix Multiplication of a matrix with its inverse\n",
        "\n",
        "x@x_inv"
      ],
      "metadata": {
        "colab": {
          "base_uri": "https://localhost:8080/"
        },
        "id": "IliiypLK_iqE",
        "outputId": "0afc1f90-9d49-4afb-aa42-1f8b9259c072"
      },
      "execution_count": 47,
      "outputs": [
        {
          "output_type": "execute_result",
          "data": {
            "text/plain": [
              "<tf.Tensor: shape=(3, 3), dtype=float32, numpy=\n",
              "array([[1., 0., 0.],\n",
              "       [0., 1., 0.],\n",
              "       [0., 0., 1.]], dtype=float32)>"
            ]
          },
          "metadata": {},
          "execution_count": 47
        }
      ]
    },
    {
      "cell_type": "code",
      "source": [
        "# Singular Value Decomposition of a matrix\n",
        "\n",
        "tensor_two_d = tf.constant([[1,-2,0],\n",
        "                            [3,5,100],\n",
        "                            [1,5,6],\n",
        "                            [2,3,8]],dtype=tf.float32)\n",
        "\n",
        "s, u, v = tf.linalg.svd(tensor_two_d)\n",
        "\n",
        "# s is a tensor of singular values.\n",
        "# u is a tensor of left singular vectors.\n",
        "# v is a tensor of right singular vectors.\n",
        "\n",
        "print(s)\n",
        "print(u)\n",
        "print(v)"
      ],
      "metadata": {
        "colab": {
          "base_uri": "https://localhost:8080/"
        },
        "id": "WcEQSA0DCGo-",
        "outputId": "fbec3192-f880-4f72-e995-148d61752b75"
      },
      "execution_count": 48,
      "outputs": [
        {
          "output_type": "stream",
          "name": "stdout",
          "text": [
            "tf.Tensor([100.70144     5.8190866   1.8329673], shape=(3,), dtype=float32)\n",
            "tf.Tensor(\n",
            "[[-7.74652755e-04 -2.99280852e-01  7.63974667e-01]\n",
            " [ 9.94706869e-01 -9.16284993e-02 -4.46390249e-02]\n",
            " [ 6.25059605e-02  8.12258899e-01 -1.08075924e-01]\n",
            " [ 8.15519020e-02  4.92210150e-01  6.34563029e-01]], shape=(4, 3), dtype=float32)\n",
            "tf.Tensor(\n",
            "[[ 0.03186604  0.21008667  0.9771634 ]\n",
            " [ 0.05493734  0.97581375 -0.21158805]\n",
            " [ 0.99798125 -0.06042523 -0.01955372]], shape=(3, 3), dtype=float32)\n"
          ]
        }
      ]
    },
    {
      "cell_type": "code",
      "source": [
        " # Einsum Operation\n",
        "\n",
        "import numpy as np\n",
        "\n",
        "A = np.array([[2,6,5,2],\n",
        "               [2,-2,2,3],\n",
        "               [1,5,4,0]])\n",
        "\n",
        "B = np.array([[2,9,0,3,0],\n",
        "               [3,6,8,-2,2],\n",
        "               [1,3,5,0,1],\n",
        "               [3,0,2,0,5]])\n",
        "\n",
        "print(A.shape)\n",
        "print(B.shape)\n",
        "\n",
        "print('Matmul operation: \\n')\n",
        "print(np.matmul(A,B),'\\n')\n",
        "\n",
        "print('Einsum operation: \\n')\n",
        "# The 'ij,jk->ik' string specifies the Einstein summation convention for matrix multiplication.\n",
        "print(np.einsum('ij,jk->ik', A, B))"
      ],
      "metadata": {
        "colab": {
          "base_uri": "https://localhost:8080/"
        },
        "id": "3Li1sV0KCqWq",
        "outputId": "e71b6a98-927c-46c2-ac39-1dd4e0c27508"
      },
      "execution_count": 49,
      "outputs": [
        {
          "output_type": "stream",
          "name": "stdout",
          "text": [
            "(3, 4)\n",
            "(4, 5)\n",
            "Matmul operation: \n",
            "\n",
            "[[33 69 77 -6 27]\n",
            " [ 9 12  0 10 13]\n",
            " [21 51 60 -7 14]] \n",
            "\n",
            "Einsum operation: \n",
            "\n",
            "[[33 69 77 -6 27]\n",
            " [ 9 12  0 10 13]\n",
            " [21 51 60 -7 14]]\n"
          ]
        }
      ]
    },
    {
      "cell_type": "code",
      "source": [
        "# Element wise multiplication\n",
        "\n",
        "A = np.array([[2,6,5,2],\n",
        "               [2,-2,2,3],\n",
        "               [1,5,4,0]])\n",
        "\n",
        "B = np.array([[2,9,0,3],\n",
        "               [3,6,8,-2],\n",
        "               [1,3,5,0]])\n",
        "\n",
        "print(A.shape) # (3,3)\n",
        "print(B.shape) # (3,3)\n",
        "\n",
        "print('Element wise multiplication using * : \\n')\n",
        "print(A*B,'\\n')\n",
        "\n",
        "print('Einsum operation: \\n')\n",
        "# The 'ij,jk->ik' string specifies the Einstein summation convention for matrix multiplication.\n",
        "print(np.einsum('ij,ij->ij', A, B))"
      ],
      "metadata": {
        "colab": {
          "base_uri": "https://localhost:8080/"
        },
        "id": "YtHHuA_QEwI5",
        "outputId": "8b25fde5-2cbf-4ae1-daea-98d143ee8c61"
      },
      "execution_count": 50,
      "outputs": [
        {
          "output_type": "stream",
          "name": "stdout",
          "text": [
            "(3, 4)\n",
            "(3, 4)\n",
            "Element wise multiplication using * : \n",
            "\n",
            "[[  4  54   0   6]\n",
            " [  6 -12  16  -6]\n",
            " [  1  15  20   0]] \n",
            "\n",
            "Einsum operation: \n",
            "\n",
            "[[  4  54   0   6]\n",
            " [  6 -12  16  -6]\n",
            " [  1  15  20   0]]\n"
          ]
        }
      ]
    },
    {
      "cell_type": "code",
      "source": [
        "# Transpose of a matrix by einsum method\n",
        "\n",
        "A = np.array([[2,6,5,2],\n",
        "              [2,-2,2,3],\n",
        "              [1,5,4,0]])\n",
        "\n",
        "print(\"Transposed A: \\n\")\n",
        "print(A.T,\"\\n\")\n",
        "\n",
        "print(\"Einsum Transpose A:\\n\")\n",
        "print(np.einsum(\"ij -> ji\",A))"
      ],
      "metadata": {
        "colab": {
          "base_uri": "https://localhost:8080/"
        },
        "id": "f2z7a0KPF8fD",
        "outputId": "16a10a2d-e021-4c00-d9a6-d19f8496046b"
      },
      "execution_count": 51,
      "outputs": [
        {
          "output_type": "stream",
          "name": "stdout",
          "text": [
            "Transposed A: \n",
            "\n",
            "[[ 2  2  1]\n",
            " [ 6 -2  5]\n",
            " [ 5  2  4]\n",
            " [ 2  3  0]] \n",
            "\n",
            "Einsum Transpose A:\n",
            "\n",
            "[[ 2  2  1]\n",
            " [ 6 -2  5]\n",
            " [ 5  2  4]\n",
            " [ 2  3  0]]\n"
          ]
        }
      ]
    },
    {
      "cell_type": "code",
      "source": [
        "# Matrix Multiplication by einsum method\n",
        "\n",
        "A = np.array([[[2,6,5,2],\n",
        "               [2,-2,2,3],\n",
        "               [1,5,4,0]],\n",
        "\n",
        "              [[1,3,1,22],\n",
        "               [0,2,2,0],\n",
        "               [1,5,4,1]]])\n",
        "\n",
        "B = np.array([[[2,9,0,3,0],\n",
        "               [3,6,8,-2,2],\n",
        "               [1,3,5,0,1],\n",
        "               [3,0,2,0,5]],\n",
        "\n",
        "              [[1,0,0,3,0],\n",
        "               [3,0,4,-2,2],\n",
        "               [1,0,2,0,0],\n",
        "               [3,0,1,1,0]]])\n",
        "\n",
        "print(A.shape,B.shape)\n",
        "\n",
        "print(\"Batch Multiplication:\\n\")\n",
        "print(np.matmul(A,B),'\\n')\n",
        "\n",
        "print('Einsum Method:\\n')\n",
        "print(np.einsum(\"bij,bjk -> bik\",A,B))"
      ],
      "metadata": {
        "colab": {
          "base_uri": "https://localhost:8080/"
        },
        "id": "UvZjtDxWMDI4",
        "outputId": "75319e86-bc6f-40fc-f256-55cc322a5bc6"
      },
      "execution_count": 52,
      "outputs": [
        {
          "output_type": "stream",
          "name": "stdout",
          "text": [
            "(2, 3, 4) (2, 4, 5)\n",
            "Batch Multiplication:\n",
            "\n",
            "[[[33 69 77 -6 27]\n",
            "  [ 9 12  0 10 13]\n",
            "  [21 51 60 -7 14]]\n",
            "\n",
            " [[77  0 36 19  6]\n",
            "  [ 8  0 12 -4  4]\n",
            "  [23  0 29 -6 10]]] \n",
            "\n",
            "Einsum Method:\n",
            "\n",
            "[[[33 69 77 -6 27]\n",
            "  [ 9 12  0 10 13]\n",
            "  [21 51 60 -7 14]]\n",
            "\n",
            " [[77  0 36 19  6]\n",
            "  [ 8  0 12 -4  4]\n",
            "  [23  0 29 -6 10]]]\n"
          ]
        }
      ]
    },
    {
      "cell_type": "code",
      "source": [
        "# Sum using einsum method\n",
        "\n",
        "A = np.array([[[2,6,5,2],\n",
        "               [2,-2,2,3],\n",
        "               [1,5,4,0]],\n",
        "\n",
        "              [[1,3,1,22],\n",
        "               [0,2,2,0],\n",
        "               [1,5,4,1]]])\n",
        "\n",
        "print(\"SUm of A:\\n\")\n",
        "print(np.sum(A),'\\n')\n",
        "\n",
        "print(\"Einsum A:\\n\")\n",
        "print(np.einsum('bij -> ',A))"
      ],
      "metadata": {
        "colab": {
          "base_uri": "https://localhost:8080/"
        },
        "id": "CPZejFWBOJQ_",
        "outputId": "81fb117e-1cc1-415f-bc20-6b2c228488d3"
      },
      "execution_count": 53,
      "outputs": [
        {
          "output_type": "stream",
          "name": "stdout",
          "text": [
            "SUm of A:\n",
            "\n",
            "72 \n",
            "\n",
            "Einsum A:\n",
            "\n",
            "72\n"
          ]
        }
      ]
    },
    {
      "cell_type": "code",
      "source": [
        "# Column wise sum using einsum method\n",
        "\n",
        "A = np.array([[2,6,5,2],\n",
        "               [2,-2,2,3],\n",
        "               [1,5,4,0]])\n",
        "\n",
        "print(\"Axis 0 SUm A: \\n\")\n",
        "print(np.sum(A,axis=0),\"\\n\")\n",
        "\n",
        "print(\"Einsum A: \\n\")\n",
        "print(np.einsum('ij -> j', A))"
      ],
      "metadata": {
        "colab": {
          "base_uri": "https://localhost:8080/"
        },
        "id": "fTQrp3MrOudn",
        "outputId": "5587e820-da5f-4e1f-c7f3-20f5ec904dcb"
      },
      "execution_count": 54,
      "outputs": [
        {
          "output_type": "stream",
          "name": "stdout",
          "text": [
            "Axis 0 SUm A: \n",
            "\n",
            "[ 5  9 11  5] \n",
            "\n",
            "Einsum A: \n",
            "\n",
            "[ 5  9 11  5]\n"
          ]
        }
      ]
    },
    {
      "cell_type": "code",
      "source": [
        "# Row wise sum using einsum method\n",
        "\n",
        "A = np.array([[2,6,5,2],\n",
        "               [2,-2,2,3],\n",
        "               [1,5,4,0]])\n",
        "\n",
        "print(\"Axis 1 SUm A: \\n\")\n",
        "print(np.sum(A,axis=1),\"\\n\")\n",
        "\n",
        "print(\"Einsum A: \\n\")\n",
        "print(np.einsum('ij -> i', A))"
      ],
      "metadata": {
        "colab": {
          "base_uri": "https://localhost:8080/"
        },
        "id": "ICk6jv5FPa_0",
        "outputId": "e23877f6-13b9-41f0-c844-53bbbf45509a"
      },
      "execution_count": 55,
      "outputs": [
        {
          "output_type": "stream",
          "name": "stdout",
          "text": [
            "Axis 1 SUm A: \n",
            "\n",
            "[15  5 10] \n",
            "\n",
            "Einsum A: \n",
            "\n",
            "[15  5 10]\n"
          ]
        }
      ]
    },
    {
      "cell_type": "code",
      "source": [
        "# Example from 'Attention Is All You Need' paper\n",
        "\n",
        "Q = np.random.randn(32,64,512)\n",
        "K = np.random.randn(32,128,512)"
      ],
      "metadata": {
        "id": "v-QnWx_1P7FP"
      },
      "execution_count": 56,
      "outputs": []
    },
    {
      "cell_type": "code",
      "source": [
        "np.einsum('bqm,bkm',Q,K)"
      ],
      "metadata": {
        "colab": {
          "base_uri": "https://localhost:8080/"
        },
        "id": "kTw9SXEBZqz5",
        "outputId": "f6bff595-74b5-4c7a-8397-10b17894b175"
      },
      "execution_count": 57,
      "outputs": [
        {
          "output_type": "execute_result",
          "data": {
            "text/plain": [
              "array([[  93.85495483,  -11.08782093,  -55.44458376, ...,  -10.50138631,\n",
              "          22.96346083,  -66.97203602],\n",
              "       [  84.40340345,  -72.82551586, -115.74071704, ...,   80.61515776,\n",
              "           9.34230827, -224.97100687],\n",
              "       [ 201.02783336,  -78.49695474, -109.65717223, ...,  -65.96107503,\n",
              "          98.55907111,    0.85703016],\n",
              "       ...,\n",
              "       [ 114.8773318 ,  -51.99053971, -149.65599493, ...,    2.61716584,\n",
              "         -61.85654683,   88.5832663 ],\n",
              "       [ 148.25077012,  -13.95029001,  110.65454683, ...,   -8.7338804 ,\n",
              "         -90.94579291, -242.31441658],\n",
              "       [ 224.55554949, -247.75798758,  -53.68941817, ...,   83.31668779,\n",
              "        -136.35688345,   27.34163305]])"
            ]
          },
          "metadata": {},
          "execution_count": 57
        }
      ]
    },
    {
      "cell_type": "code",
      "source": [
        "np.einsum('bqm,bkm',Q,K).shape"
      ],
      "metadata": {
        "colab": {
          "base_uri": "https://localhost:8080/"
        },
        "id": "d8kJfOHsaLkX",
        "outputId": "6389ff26-17b5-4a37-864b-d6431e7cd2f4"
      },
      "execution_count": 58,
      "outputs": [
        {
          "output_type": "execute_result",
          "data": {
            "text/plain": [
              "(128, 64)"
            ]
          },
          "metadata": {},
          "execution_count": 58
        }
      ]
    },
    {
      "cell_type": "code",
      "source": [
        "# Example-2\n",
        "\n",
        "A = np.random.randn(2,4,4,2) # bcij\n",
        "B = np.random.randn(2,4,4,1) # bcik"
      ],
      "metadata": {
        "id": "v9OmfYxCaMbw"
      },
      "execution_count": 59,
      "outputs": []
    },
    {
      "cell_type": "code",
      "source": [
        "np.einsum(\"bcik,bcij -> bckj\", B, A)"
      ],
      "metadata": {
        "colab": {
          "base_uri": "https://localhost:8080/"
        },
        "id": "gHhTFR5Ka3rC",
        "outputId": "c0343477-9d5a-47d7-da20-d5edb46ab851"
      },
      "execution_count": 60,
      "outputs": [
        {
          "output_type": "execute_result",
          "data": {
            "text/plain": [
              "array([[[[ 0.12788976, -1.49358148]],\n",
              "\n",
              "        [[-0.22120038, -0.06785165]],\n",
              "\n",
              "        [[-2.35789451,  2.42209577]],\n",
              "\n",
              "        [[-1.63657152, -0.88264405]]],\n",
              "\n",
              "\n",
              "       [[[ 0.84815775, -1.37684437]],\n",
              "\n",
              "        [[-4.14278475, -1.26561325]],\n",
              "\n",
              "        [[ 0.45416327,  0.33195679]],\n",
              "\n",
              "        [[ 0.81217276,  0.44511186]]]])"
            ]
          },
          "metadata": {},
          "execution_count": 60
        }
      ]
    },
    {
      "cell_type": "code",
      "source": [
        "np.einsum(\"bcik,bcij -> bckj\", A, B)"
      ],
      "metadata": {
        "colab": {
          "base_uri": "https://localhost:8080/"
        },
        "id": "f227kEa5bK14",
        "outputId": "a490cbab-3c0a-4c5e-9446-dc2f27eb16dc"
      },
      "execution_count": 61,
      "outputs": [
        {
          "output_type": "execute_result",
          "data": {
            "text/plain": [
              "array([[[[ 0.12788976],\n",
              "         [-1.49358148]],\n",
              "\n",
              "        [[-0.22120038],\n",
              "         [-0.06785165]],\n",
              "\n",
              "        [[-2.35789451],\n",
              "         [ 2.42209577]],\n",
              "\n",
              "        [[-1.63657152],\n",
              "         [-0.88264405]]],\n",
              "\n",
              "\n",
              "       [[[ 0.84815775],\n",
              "         [-1.37684437]],\n",
              "\n",
              "        [[-4.14278475],\n",
              "         [-1.26561325]],\n",
              "\n",
              "        [[ 0.45416327],\n",
              "         [ 0.33195679]],\n",
              "\n",
              "        [[ 0.81217276],\n",
              "         [ 0.44511186]]]])"
            ]
          },
          "metadata": {},
          "execution_count": 61
        }
      ]
    },
    {
      "cell_type": "code",
      "source": [],
      "metadata": {
        "id": "llJGWTX8b0gP"
      },
      "execution_count": null,
      "outputs": []
    }
  ]
}