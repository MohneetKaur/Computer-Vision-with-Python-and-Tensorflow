{
  "nbformat": 4,
  "nbformat_minor": 0,
  "metadata": {
    "colab": {
      "provenance": [],
      "authorship_tag": "ABX9TyMguO2E1J4VaiamEq7qbLj4",
      "include_colab_link": true
    },
    "kernelspec": {
      "name": "python3",
      "display_name": "Python 3"
    },
    "language_info": {
      "name": "python"
    }
  },
  "cells": [
    {
      "cell_type": "markdown",
      "metadata": {
        "id": "view-in-github",
        "colab_type": "text"
      },
      "source": [
        "<a href=\"https://colab.research.google.com/github/MohneetKaur/Computer-Vision-with-Python-and-Tensorflow/blob/main/String_Tensors.ipynb\" target=\"_parent\"><img src=\"https://colab.research.google.com/assets/colab-badge.svg\" alt=\"Open In Colab\"/></a>"
      ]
    },
    {
      "cell_type": "code",
      "execution_count": 1,
      "metadata": {
        "id": "g4IXkTshtEOW"
      },
      "outputs": [],
      "source": [
        " import tensorflow as tf"
      ]
    },
    {
      "cell_type": "code",
      "source": [
        "tensor_string = tf.constant([\"hello\",\"i am\",\"a string\"])\n",
        "print(tensor_string)"
      ],
      "metadata": {
        "colab": {
          "base_uri": "https://localhost:8080/"
        },
        "id": "X4XlrA2HucSm",
        "outputId": "9ef5fda5-3268-4702-df07-bacabc9e57f9"
      },
      "execution_count": 2,
      "outputs": [
        {
          "output_type": "stream",
          "name": "stdout",
          "text": [
            "tf.Tensor([b'hello' b'i am' b'a string'], shape=(3,), dtype=string)\n"
          ]
        }
      ]
    },
    {
      "cell_type": "code",
      "source": [
        "# as_string() function\n",
        "\n",
        "tf.strings.as_string([3, 2])"
      ],
      "metadata": {
        "colab": {
          "base_uri": "https://localhost:8080/"
        },
        "id": "KKvxzeTkunW7",
        "outputId": "7dd1d503-a237-4b23-fac5-9e927aa802ad"
      },
      "execution_count": 3,
      "outputs": [
        {
          "output_type": "execute_result",
          "data": {
            "text/plain": [
              "<tf.Tensor: shape=(2,), dtype=string, numpy=array([b'3', b'2'], dtype=object)>"
            ]
          },
          "metadata": {},
          "execution_count": 3
        }
      ]
    },
    {
      "cell_type": "code",
      "source": [
        "tf.strings.as_string([3.1415926, 2.71828], precision=2).numpy()"
      ],
      "metadata": {
        "colab": {
          "base_uri": "https://localhost:8080/"
        },
        "id": "PtuhcSSxus6n",
        "outputId": "c449b2b9-320d-4edd-b399-4e00924b097f"
      },
      "execution_count": 4,
      "outputs": [
        {
          "output_type": "execute_result",
          "data": {
            "text/plain": [
              "array([b'3.14', b'2.72'], dtype=object)"
            ]
          },
          "metadata": {},
          "execution_count": 4
        }
      ]
    },
    {
      "cell_type": "code",
      "source": [
        "# bytes_split() function\n",
        "\n",
        "tf.strings.bytes_split('hello').numpy()"
      ],
      "metadata": {
        "colab": {
          "base_uri": "https://localhost:8080/"
        },
        "id": "x0VYknaju2Ix",
        "outputId": "4005cd25-2523-4aa3-f690-a504e32dcdf9"
      },
      "execution_count": 5,
      "outputs": [
        {
          "output_type": "execute_result",
          "data": {
            "text/plain": [
              "array([b'h', b'e', b'l', b'l', b'o'], dtype=object)"
            ]
          },
          "metadata": {},
          "execution_count": 5
        }
      ]
    },
    {
      "cell_type": "code",
      "source": [
        "tf.strings.bytes_split(['hello', '123'])"
      ],
      "metadata": {
        "colab": {
          "base_uri": "https://localhost:8080/"
        },
        "id": "pNIDFMw5u8Aw",
        "outputId": "aa92b364-4323-4ae7-d61c-bf46ffaab0ea"
      },
      "execution_count": 6,
      "outputs": [
        {
          "output_type": "execute_result",
          "data": {
            "text/plain": [
              "<tf.RaggedTensor [[b'h', b'e', b'l', b'l', b'o'], [b'1', b'2', b'3']]>"
            ]
          },
          "metadata": {},
          "execution_count": 6
        }
      ]
    },
    {
      "cell_type": "code",
      "source": [
        "# format() function\n",
        "\n",
        "tensor_a = tf.range(2)\n",
        "tensor_b = tf.range(1, 4, 2)\n",
        "tf.strings.format(\"a: {}, b: {}, suffix\", (tensor_a, tensor_b))"
      ],
      "metadata": {
        "colab": {
          "base_uri": "https://localhost:8080/"
        },
        "id": "FsMKV9Bku8cq",
        "outputId": "218bdee6-74ec-4bc2-9679-98450e7525cf"
      },
      "execution_count": 7,
      "outputs": [
        {
          "output_type": "execute_result",
          "data": {
            "text/plain": [
              "<tf.Tensor: shape=(), dtype=string, numpy=b'a: [0 1], b: [1 3], suffix'>"
            ]
          },
          "metadata": {},
          "execution_count": 7
        }
      ]
    },
    {
      "cell_type": "code",
      "source": [
        "# join() function\n",
        "\n",
        "tf.strings.join(['abc','def']).numpy()"
      ],
      "metadata": {
        "colab": {
          "base_uri": "https://localhost:8080/"
        },
        "id": "4x1Mrqn2vWdd",
        "outputId": "3c6a5b28-48ac-4b7e-d541-0bfb787c4f61"
      },
      "execution_count": 8,
      "outputs": [
        {
          "output_type": "execute_result",
          "data": {
            "text/plain": [
              "b'abcdef'"
            ]
          },
          "metadata": {},
          "execution_count": 8
        }
      ]
    },
    {
      "cell_type": "code",
      "source": [
        "tf.strings.join([['abc','123'],\n",
        "                 ['def','456'],\n",
        "                 ['ghi','789']]).numpy()"
      ],
      "metadata": {
        "colab": {
          "base_uri": "https://localhost:8080/"
        },
        "id": "WzLYXg32vfMI",
        "outputId": "f1091cdc-a586-4c3a-a8e5-da4c3e7aac66"
      },
      "execution_count": 9,
      "outputs": [
        {
          "output_type": "execute_result",
          "data": {
            "text/plain": [
              "array([b'abcdefghi', b'123456789'], dtype=object)"
            ]
          },
          "metadata": {},
          "execution_count": 9
        }
      ]
    },
    {
      "cell_type": "code",
      "source": [
        "tf.strings.join([['abc','123'],\n",
        "                 ['def','456']],\n",
        "                 separator=\" \").numpy()"
      ],
      "metadata": {
        "colab": {
          "base_uri": "https://localhost:8080/"
        },
        "id": "jb5ucVDFvhbm",
        "outputId": "4c6bc57c-d021-4c03-8be8-cb2ddd3286c8"
      },
      "execution_count": 10,
      "outputs": [
        {
          "output_type": "execute_result",
          "data": {
            "text/plain": [
              "array([b'abc def', b'123 456'], dtype=object)"
            ]
          },
          "metadata": {},
          "execution_count": 10
        }
      ]
    },
    {
      "cell_type": "code",
      "source": [
        "# length() function\n",
        "\n",
        "strings = tf.constant(['Hello','TensorFlow', '\\U0001F642'])\n",
        "tf.strings.length(strings).numpy() # default counts bytes"
      ],
      "metadata": {
        "colab": {
          "base_uri": "https://localhost:8080/"
        },
        "id": "frxf6XXuviz5",
        "outputId": "57d02f11-96ae-4c0c-ace4-888c83969864"
      },
      "execution_count": 11,
      "outputs": [
        {
          "output_type": "execute_result",
          "data": {
            "text/plain": [
              "array([ 5, 10,  4], dtype=int32)"
            ]
          },
          "metadata": {},
          "execution_count": 11
        }
      ]
    },
    {
      "cell_type": "code",
      "source": [
        "# lower() function\n",
        "\n",
        "tf.strings.lower(\"CamelCase string and ALL CAPS\")"
      ],
      "metadata": {
        "colab": {
          "base_uri": "https://localhost:8080/"
        },
        "id": "idPW7iAcvu88",
        "outputId": "616380c9-35ec-4f3b-9956-2e3dab25f8a6"
      },
      "execution_count": 12,
      "outputs": [
        {
          "output_type": "execute_result",
          "data": {
            "text/plain": [
              "<tf.Tensor: shape=(), dtype=string, numpy=b'camelcase string and all caps'>"
            ]
          },
          "metadata": {},
          "execution_count": 12
        }
      ]
    },
    {
      "cell_type": "code",
      "source": [
        "# ngrams() function\n",
        "\n",
        "tf.strings.ngrams([\"A\", \"B\", \"C\", \"D\"], 2).numpy()"
      ],
      "metadata": {
        "colab": {
          "base_uri": "https://localhost:8080/"
        },
        "id": "8msjhgEHvwid",
        "outputId": "57922ac5-e713-44bd-8525-ba1e15b38a76"
      },
      "execution_count": 13,
      "outputs": [
        {
          "output_type": "execute_result",
          "data": {
            "text/plain": [
              "array([b'A B', b'B C', b'C D'], dtype=object)"
            ]
          },
          "metadata": {},
          "execution_count": 13
        }
      ]
    },
    {
      "cell_type": "code",
      "source": [
        "tf.strings.ngrams([\"TF\", \"and\", \"keras\"], 1).numpy()"
      ],
      "metadata": {
        "colab": {
          "base_uri": "https://localhost:8080/"
        },
        "id": "vrUm8DK2wKgh",
        "outputId": "32b4598a-346a-4871-d637-4e19d3502a13"
      },
      "execution_count": 14,
      "outputs": [
        {
          "output_type": "execute_result",
          "data": {
            "text/plain": [
              "array([b'TF', b'and', b'keras'], dtype=object)"
            ]
          },
          "metadata": {},
          "execution_count": 14
        }
      ]
    },
    {
      "cell_type": "code",
      "source": [
        "# reduce_join() function\n",
        "\n",
        "tf.strings.reduce_join([['abc','123'],\n",
        "                        ['def','456']]).numpy()"
      ],
      "metadata": {
        "colab": {
          "base_uri": "https://localhost:8080/"
        },
        "id": "ifxm1MBawOgQ",
        "outputId": "7982ec6f-47bf-4a27-8253-8f544023efc7"
      },
      "execution_count": 15,
      "outputs": [
        {
          "output_type": "execute_result",
          "data": {
            "text/plain": [
              "b'abc123def456'"
            ]
          },
          "metadata": {},
          "execution_count": 15
        }
      ]
    },
    {
      "cell_type": "code",
      "source": [
        "tf.strings.reduce_join([['abc','123'],\n",
        "                        ['def','456']], axis=-1).numpy()"
      ],
      "metadata": {
        "colab": {
          "base_uri": "https://localhost:8080/"
        },
        "id": "m9PGQMaSw4dk",
        "outputId": "cbee800c-95ab-42c5-d757-ebce641560f1"
      },
      "execution_count": 16,
      "outputs": [
        {
          "output_type": "execute_result",
          "data": {
            "text/plain": [
              "array([b'abc123', b'def456'], dtype=object)"
            ]
          },
          "metadata": {},
          "execution_count": 16
        }
      ]
    },
    {
      "cell_type": "code",
      "source": [
        "tf.strings.reduce_join([['abc','123'],\n",
        "                        ['def','456']],\n",
        "                       axis=-1,\n",
        "                       separator=\" \").numpy()"
      ],
      "metadata": {
        "colab": {
          "base_uri": "https://localhost:8080/"
        },
        "id": "gTEBNk2Bw6C5",
        "outputId": "15f22ea3-432c-48ff-d8c6-dd8c86eaf8d7"
      },
      "execution_count": 17,
      "outputs": [
        {
          "output_type": "execute_result",
          "data": {
            "text/plain": [
              "array([b'abc 123', b'def 456'], dtype=object)"
            ]
          },
          "metadata": {},
          "execution_count": 17
        }
      ]
    },
    {
      "cell_type": "code",
      "source": [
        "# regex_full_match() function\n",
        "\n",
        "tf.strings.regex_full_match([\"TF lib\", \"lib TF\"], \".*lib$\")"
      ],
      "metadata": {
        "colab": {
          "base_uri": "https://localhost:8080/"
        },
        "id": "ybPR4stuw6sC",
        "outputId": "16b85485-d077-4875-d277-404a590078b0"
      },
      "execution_count": 18,
      "outputs": [
        {
          "output_type": "execute_result",
          "data": {
            "text/plain": [
              "<tf.Tensor: shape=(2,), dtype=bool, numpy=array([ True, False])>"
            ]
          },
          "metadata": {},
          "execution_count": 18
        }
      ]
    },
    {
      "cell_type": "code",
      "source": [
        "tf.strings.regex_full_match([\"TF lib\", \"lib TF\"], \".*TF$\")"
      ],
      "metadata": {
        "colab": {
          "base_uri": "https://localhost:8080/"
        },
        "id": "MPthsDBJRKnq",
        "outputId": "61faaf4d-7dbf-4014-c53e-fc6ce647c3a2"
      },
      "execution_count": 19,
      "outputs": [
        {
          "output_type": "execute_result",
          "data": {
            "text/plain": [
              "<tf.Tensor: shape=(2,), dtype=bool, numpy=array([False,  True])>"
            ]
          },
          "metadata": {},
          "execution_count": 19
        }
      ]
    },
    {
      "cell_type": "markdown",
      "source": [
        "\n",
        "\n",
        "*   $\t- at end of text (like \\z not \\Z) or line (m=true)\n",
        "*   x*\t- zero or more x, prefer more\n",
        "* . -  any character, possibly including newline (s=true)\n",
        "\n",
        "\n",
        "\n"
      ],
      "metadata": {
        "id": "k3B-rDmUQE13"
      }
    },
    {
      "cell_type": "code",
      "source": [
        "# regex_replace() function\n",
        "\n",
        "tf.strings.regex_replace(\"Text with tags.<br /><b>contains html</b>\",\n",
        "                         \"<[^>]+>\", \" \")"
      ],
      "metadata": {
        "colab": {
          "base_uri": "https://localhost:8080/"
        },
        "id": "ygZj7HMgQLmy",
        "outputId": "e97ae463-6de6-476c-e3bb-f58a9cc517d9"
      },
      "execution_count": 20,
      "outputs": [
        {
          "output_type": "execute_result",
          "data": {
            "text/plain": [
              "<tf.Tensor: shape=(), dtype=string, numpy=b'Text with tags.  contains html '>"
            ]
          },
          "metadata": {},
          "execution_count": 20
        }
      ]
    },
    {
      "cell_type": "code",
      "source": [
        "# split() function\n",
        "\n",
        "tf.strings.split('hello world').numpy()"
      ],
      "metadata": {
        "colab": {
          "base_uri": "https://localhost:8080/"
        },
        "id": "vqqr2XbIRjca",
        "outputId": "c21d6d45-cd7d-4637-91dd-49effba031bb"
      },
      "execution_count": 21,
      "outputs": [
        {
          "output_type": "execute_result",
          "data": {
            "text/plain": [
              "array([b'hello', b'world'], dtype=object)"
            ]
          },
          "metadata": {},
          "execution_count": 21
        }
      ]
    },
    {
      "cell_type": "code",
      "source": [
        "tf.strings.split(['hello world', 'a b c'])"
      ],
      "metadata": {
        "colab": {
          "base_uri": "https://localhost:8080/"
        },
        "id": "v2EipqntRvoF",
        "outputId": "f5d9e79d-135e-40e4-da2c-1c64b7844638"
      },
      "execution_count": 22,
      "outputs": [
        {
          "output_type": "execute_result",
          "data": {
            "text/plain": [
              "<tf.RaggedTensor [[b'hello', b'world'], [b'a', b'b', b'c']]>"
            ]
          },
          "metadata": {},
          "execution_count": 22
        }
      ]
    },
    {
      "cell_type": "code",
      "source": [
        "# strip() function\n",
        "\n",
        "tf.strings.strip([\"\\nTensorFlow\", \"     The python library    \"]).numpy()"
      ],
      "metadata": {
        "colab": {
          "base_uri": "https://localhost:8080/"
        },
        "id": "bZbDwI5nRwAO",
        "outputId": "0ca18445-afd5-408a-a679-433e1c78cf91"
      },
      "execution_count": 23,
      "outputs": [
        {
          "output_type": "execute_result",
          "data": {
            "text/plain": [
              "array([b'TensorFlow', b'The python library'], dtype=object)"
            ]
          },
          "metadata": {},
          "execution_count": 23
        }
      ]
    },
    {
      "cell_type": "code",
      "source": [
        "# substr() function\n",
        "\n",
        "input = [b'Hello', b'World']\n",
        "position = 1\n",
        "length = 3\n",
        "\n",
        "tf.strings.substr(\n",
        "    input, pos=position, len=length, unit='BYTE', name=None\n",
        ")"
      ],
      "metadata": {
        "colab": {
          "base_uri": "https://localhost:8080/"
        },
        "id": "0egB11qMR3yU",
        "outputId": "2f145136-3f7e-430e-80a1-9a867cbb4e4a"
      },
      "execution_count": 24,
      "outputs": [
        {
          "output_type": "execute_result",
          "data": {
            "text/plain": [
              "<tf.Tensor: shape=(2,), dtype=string, numpy=array([b'ell', b'orl'], dtype=object)>"
            ]
          },
          "metadata": {},
          "execution_count": 24
        }
      ]
    },
    {
      "cell_type": "code",
      "source": [
        "input = [[b'ten', b'eleven', b'twelve'],\n",
        "         [b'thirteen', b'fourteen', b'fifteen'],\n",
        "         [b'sixteen', b'seventeen', b'eighteen']]\n",
        "position = [[1, 2, 3],\n",
        "            [1, 2, 3],\n",
        "            [1, 2, 3]]\n",
        "length =   [[2, 3, 4],\n",
        "            [4, 3, 2],\n",
        "            [5, 5, 5]]\n",
        "\n",
        "tf.strings.substr(\n",
        "    input, pos=position, len=length, unit='BYTE', name=None\n",
        ")"
      ],
      "metadata": {
        "colab": {
          "base_uri": "https://localhost:8080/"
        },
        "id": "J6EOWH74SYP-",
        "outputId": "73ed67ae-9863-4cc1-e926-ff427891d1ad"
      },
      "execution_count": 25,
      "outputs": [
        {
          "output_type": "execute_result",
          "data": {
            "text/plain": [
              "<tf.Tensor: shape=(3, 3), dtype=string, numpy=\n",
              "array([[b'en', b'eve', b'lve'],\n",
              "       [b'hirt', b'urt', b'te'],\n",
              "       [b'ixtee', b'vente', b'hteen']], dtype=object)>"
            ]
          },
          "metadata": {},
          "execution_count": 25
        }
      ]
    },
    {
      "cell_type": "code",
      "source": [
        "input = [[b'ten', b'eleven', b'twelve'],\n",
        "         [b'thirteen', b'fourteen', b'fifteen'],\n",
        "         [b'sixteen', b'seventeen', b'eighteen'],\n",
        "         [b'nineteen', b'twenty', b'twentyone']]\n",
        "position = [1, 2, 3]\n",
        "length =   [1, 2, 3]\n",
        "\n",
        "tf.strings.substr(\n",
        "    input, pos=position, len=length, unit='BYTE', name=None\n",
        ")"
      ],
      "metadata": {
        "colab": {
          "base_uri": "https://localhost:8080/"
        },
        "id": "YzhjKGEwSjBq",
        "outputId": "29f82992-c97e-48bb-8c4b-917cd1722690"
      },
      "execution_count": 26,
      "outputs": [
        {
          "output_type": "execute_result",
          "data": {
            "text/plain": [
              "<tf.Tensor: shape=(4, 3), dtype=string, numpy=\n",
              "array([[b'e', b'ev', b'lve'],\n",
              "       [b'h', b'ur', b'tee'],\n",
              "       [b'i', b've', b'hte'],\n",
              "       [b'i', b'en', b'nty']], dtype=object)>"
            ]
          },
          "metadata": {},
          "execution_count": 26
        }
      ]
    },
    {
      "cell_type": "code",
      "source": [
        "input = b'thirteen'\n",
        "position = [1, 5, 7]\n",
        "length =   [3, 2, 1]\n",
        "\n",
        "tf.strings.substr(\n",
        "    input, pos=position, len=length, unit='BYTE', name=None\n",
        ")"
      ],
      "metadata": {
        "colab": {
          "base_uri": "https://localhost:8080/"
        },
        "id": "GAAjki5dStDR",
        "outputId": "7298a85f-8205-4b1d-b54f-a90d28c0f4f3"
      },
      "execution_count": 27,
      "outputs": [
        {
          "output_type": "execute_result",
          "data": {
            "text/plain": [
              "<tf.Tensor: shape=(3,), dtype=string, numpy=array([b'hir', b'ee', b'n'], dtype=object)>"
            ]
          },
          "metadata": {},
          "execution_count": 27
        }
      ]
    },
    {
      "cell_type": "code",
      "source": [
        "# upper() function\n",
        "\n",
        "tf.strings.upper(\"CamelCase string and ALL CAPS\")"
      ],
      "metadata": {
        "colab": {
          "base_uri": "https://localhost:8080/"
        },
        "id": "4Qoz79TDS9me",
        "outputId": "5a1e53ab-cfb2-4d05-e16b-e4722beaee7e"
      },
      "execution_count": 29,
      "outputs": [
        {
          "output_type": "execute_result",
          "data": {
            "text/plain": [
              "<tf.Tensor: shape=(), dtype=string, numpy=b'CAMELCASE STRING AND ALL CAPS'>"
            ]
          },
          "metadata": {},
          "execution_count": 29
        }
      ]
    },
    {
      "cell_type": "code",
      "source": [
        "# to_number() function\n",
        "\n",
        "tf.strings.to_number(\"3\", tf.int32)"
      ],
      "metadata": {
        "colab": {
          "base_uri": "https://localhost:8080/"
        },
        "id": "5Z5zu34jZeRx",
        "outputId": "6480da12-372d-43d8-e5cf-d9beb089b179"
      },
      "execution_count": 30,
      "outputs": [
        {
          "output_type": "execute_result",
          "data": {
            "text/plain": [
              "<tf.Tensor: shape=(), dtype=int32, numpy=3>"
            ]
          },
          "metadata": {},
          "execution_count": 30
        }
      ]
    },
    {
      "cell_type": "code",
      "source": [],
      "metadata": {
        "id": "Jv83JvVLZbya"
      },
      "execution_count": null,
      "outputs": []
    }
  ]
}