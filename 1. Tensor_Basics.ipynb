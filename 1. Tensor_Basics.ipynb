{
  "nbformat": 4,
  "nbformat_minor": 0,
  "metadata": {
    "colab": {
      "provenance": [],
      "authorship_tag": "ABX9TyN7tY9Vbj0q9RTMgAKQnBEI",
      "include_colab_link": true
    },
    "kernelspec": {
      "name": "python3",
      "display_name": "Python 3"
    },
    "language_info": {
      "name": "python"
    }
  },
  "cells": [
    {
      "cell_type": "markdown",
      "metadata": {
        "id": "view-in-github",
        "colab_type": "text"
      },
      "source": [
        "<a href=\"https://colab.research.google.com/github/MohneetKaur/Computer-Vision-with-Python-and-Tensorflow/blob/main/Tensor_Basics.ipynb\" target=\"_parent\"><img src=\"https://colab.research.google.com/assets/colab-badge.svg\" alt=\"Open In Colab\"/></a>"
      ]
    },
    {
      "cell_type": "code",
      "execution_count": 1,
      "metadata": {
        "id": "sSy6B2TKZVvw"
      },
      "outputs": [],
      "source": [
        "import tensorflow as tf"
      ]
    },
    {
      "cell_type": "code",
      "source": [
        "tensor_zero_d = tf.constant(4)\n",
        "print(tensor_zero_d)"
      ],
      "metadata": {
        "colab": {
          "base_uri": "https://localhost:8080/"
        },
        "id": "dRW25ymlZoTX",
        "outputId": "bfb9914f-6696-482c-ef89-fb89c35755c2"
      },
      "execution_count": 2,
      "outputs": [
        {
          "output_type": "stream",
          "name": "stdout",
          "text": [
            "tf.Tensor(4, shape=(), dtype=int32)\n"
          ]
        }
      ]
    },
    {
      "cell_type": "code",
      "source": [
        "tensor_one_d = tf.constant([2,0,-3],dtype=tf.float32)\n",
        "casted_tensor_one_d = tf.cast(tensor_one_d,dtype=tf.int16)\n",
        "print(tensor_one_d)\n",
        "print(casted_tensor_one_d)"
      ],
      "metadata": {
        "colab": {
          "base_uri": "https://localhost:8080/"
        },
        "id": "uib2HtjyZ8fu",
        "outputId": "5a826117-fdbe-4e55-c2a4-353284162b6c"
      },
      "execution_count": 3,
      "outputs": [
        {
          "output_type": "stream",
          "name": "stdout",
          "text": [
            "tf.Tensor([ 2.  0. -3.], shape=(3,), dtype=float32)\n",
            "tf.Tensor([ 2  0 -3], shape=(3,), dtype=int16)\n"
          ]
        }
      ]
    },
    {
      "cell_type": "code",
      "source": [
        "tensor_string = tf.constant([\"Hello World\",\"hi\"])\n",
        "print(tensor_string)"
      ],
      "metadata": {
        "colab": {
          "base_uri": "https://localhost:8080/"
        },
        "id": "P1trwNtFq1ie",
        "outputId": "112a8bca-e60f-45ef-dce0-482954028ea9"
      },
      "execution_count": 4,
      "outputs": [
        {
          "output_type": "stream",
          "name": "stdout",
          "text": [
            "tf.Tensor([b'Hello World' b'hi'], shape=(2,), dtype=string)\n"
          ]
        }
      ]
    },
    {
      "cell_type": "code",
      "source": [
        "tensor_two_d = tf.constant([\n",
        "    [1,2,0],\n",
        "    [3,5,-1],\n",
        "    [1,5,6],\n",
        "    [2,3,8]\n",
        "])\n",
        "\n",
        "print(tensor_two_d)"
      ],
      "metadata": {
        "colab": {
          "base_uri": "https://localhost:8080/"
        },
        "id": "cH1AWyCKZ-gQ",
        "outputId": "d718993a-e708-4120-9fab-e8f2b9b8a4fb"
      },
      "execution_count": 5,
      "outputs": [
        {
          "output_type": "stream",
          "name": "stdout",
          "text": [
            "tf.Tensor(\n",
            "[[ 1  2  0]\n",
            " [ 3  5 -1]\n",
            " [ 1  5  6]\n",
            " [ 2  3  8]], shape=(4, 3), dtype=int32)\n"
          ]
        }
      ]
    },
    {
      "cell_type": "code",
      "source": [
        "print(tensor_two_d.shape)"
      ],
      "metadata": {
        "colab": {
          "base_uri": "https://localhost:8080/"
        },
        "id": "wsX5RNZfbpSt",
        "outputId": "f6415072-fabf-4e88-8e3f-77033e6146b6"
      },
      "execution_count": 6,
      "outputs": [
        {
          "output_type": "stream",
          "name": "stdout",
          "text": [
            "(4, 3)\n"
          ]
        }
      ]
    },
    {
      "cell_type": "code",
      "source": [
        "tensor_three_d = tf.constant([\n",
        "    [[2,0,1],\n",
        "     [3,-4,7]],\n",
        "\n",
        "    [[3,9,10],\n",
        "     [7,10,4]],\n",
        "\n",
        "    [[3,0,14],\n",
        "     [10,1,0]]\n",
        "])\n",
        "\n",
        "print(tensor_three_d)"
      ],
      "metadata": {
        "colab": {
          "base_uri": "https://localhost:8080/"
        },
        "id": "XFuIPWjnamOW",
        "outputId": "325e6924-20f5-41ce-9f56-64ed8f134181"
      },
      "execution_count": 7,
      "outputs": [
        {
          "output_type": "stream",
          "name": "stdout",
          "text": [
            "tf.Tensor(\n",
            "[[[ 2  0  1]\n",
            "  [ 3 -4  7]]\n",
            "\n",
            " [[ 3  9 10]\n",
            "  [ 7 10  4]]\n",
            "\n",
            " [[ 3  0 14]\n",
            "  [10  1  0]]], shape=(3, 2, 3), dtype=int32)\n"
          ]
        }
      ]
    },
    {
      "cell_type": "code",
      "source": [
        " print(tensor_three_d.shape)"
      ],
      "metadata": {
        "colab": {
          "base_uri": "https://localhost:8080/"
        },
        "id": "qyY0jMywbGyc",
        "outputId": "95d0bdaa-c606-44fd-b5a7-d9ed33840765"
      },
      "execution_count": 8,
      "outputs": [
        {
          "output_type": "stream",
          "name": "stdout",
          "text": [
            "(3, 2, 3)\n"
          ]
        }
      ]
    },
    {
      "cell_type": "code",
      "source": [
        "tensor_four_d = tf.constant([\n",
        "        [[[2,0,1],\n",
        "         [3,-4,7]],\n",
        "\n",
        "           [[3,9,10],\n",
        "            [7,10,4]],\n",
        "\n",
        "              [[3,0,14],\n",
        "               [10,1,0]]],\n",
        "\n",
        "                 [\n",
        "                     [[3,2,11],\n",
        "                      [7,6,10]],\n",
        "\n",
        "                        [[-1,-7,-9],\n",
        "                         [11,99,2]],\n",
        "\n",
        "                           [[2,9,11],\n",
        "                            [11,2,1]],\n",
        "                     ]\n",
        "])\n",
        "\n",
        "print(tensor_four_d)"
      ],
      "metadata": {
        "colab": {
          "base_uri": "https://localhost:8080/"
        },
        "id": "Ut1-57XTbj1h",
        "outputId": "c6947a27-9a64-410c-d12c-338cf27e63b3"
      },
      "execution_count": 9,
      "outputs": [
        {
          "output_type": "stream",
          "name": "stdout",
          "text": [
            "tf.Tensor(\n",
            "[[[[ 2  0  1]\n",
            "   [ 3 -4  7]]\n",
            "\n",
            "  [[ 3  9 10]\n",
            "   [ 7 10  4]]\n",
            "\n",
            "  [[ 3  0 14]\n",
            "   [10  1  0]]]\n",
            "\n",
            "\n",
            " [[[ 3  2 11]\n",
            "   [ 7  6 10]]\n",
            "\n",
            "  [[-1 -7 -9]\n",
            "   [11 99  2]]\n",
            "\n",
            "  [[ 2  9 11]\n",
            "   [11  2  1]]]], shape=(2, 3, 2, 3), dtype=int32)\n"
          ]
        }
      ]
    },
    {
      "cell_type": "code",
      "source": [
        "print(tensor_four_d.shape)"
      ],
      "metadata": {
        "colab": {
          "base_uri": "https://localhost:8080/"
        },
        "id": "YBdXc2jbdAm8",
        "outputId": "a64b804c-b818-4164-ce2e-74b56c9ad532"
      },
      "execution_count": 10,
      "outputs": [
        {
          "output_type": "stream",
          "name": "stdout",
          "text": [
            "(2, 3, 2, 3)\n"
          ]
        }
      ]
    },
    {
      "cell_type": "code",
      "source": [
        "import numpy as np"
      ],
      "metadata": {
        "id": "KIYQC0FduSwv"
      },
      "execution_count": 11,
      "outputs": []
    },
    {
      "cell_type": "code",
      "source": [
        "np_array = np.array([1,2,4])\n",
        "print(np_array)"
      ],
      "metadata": {
        "colab": {
          "base_uri": "https://localhost:8080/"
        },
        "id": "4Nj5OvamuVHj",
        "outputId": "caeaec82-c32d-413d-968b-0dda07374604"
      },
      "execution_count": 12,
      "outputs": [
        {
          "output_type": "stream",
          "name": "stdout",
          "text": [
            "[1 2 4]\n"
          ]
        }
      ]
    },
    {
      "cell_type": "code",
      "source": [
        "converted_tensor = tf.convert_to_tensor(np_array)\n",
        "print(converted_tensor)"
      ],
      "metadata": {
        "colab": {
          "base_uri": "https://localhost:8080/"
        },
        "id": "YXkILb_VuZAJ",
        "outputId": "33d35586-691e-45ae-aedc-975022e0c114"
      },
      "execution_count": 13,
      "outputs": [
        {
          "output_type": "stream",
          "name": "stdout",
          "text": [
            "tf.Tensor([1 2 4], shape=(3,), dtype=int64)\n"
          ]
        }
      ]
    },
    {
      "cell_type": "code",
      "source": [
        "eye_tensor = tf.eye(\n",
        "    num_rows = 5,\n",
        "    num_columns = 5,\n",
        "    batch_shape = [3,],\n",
        "    dtype = tf.dtypes.float32,\n",
        "    name=None\n",
        ")\n",
        "\n",
        "print(eye_tensor)"
      ],
      "metadata": {
        "colab": {
          "base_uri": "https://localhost:8080/"
        },
        "id": "2HV6EVqpug7F",
        "outputId": "6d5d97b8-6860-451f-8072-d943ae67aa0f"
      },
      "execution_count": 14,
      "outputs": [
        {
          "output_type": "stream",
          "name": "stdout",
          "text": [
            "tf.Tensor(\n",
            "[[[1. 0. 0. 0. 0.]\n",
            "  [0. 1. 0. 0. 0.]\n",
            "  [0. 0. 1. 0. 0.]\n",
            "  [0. 0. 0. 1. 0.]\n",
            "  [0. 0. 0. 0. 1.]]\n",
            "\n",
            " [[1. 0. 0. 0. 0.]\n",
            "  [0. 1. 0. 0. 0.]\n",
            "  [0. 0. 1. 0. 0.]\n",
            "  [0. 0. 0. 1. 0.]\n",
            "  [0. 0. 0. 0. 1.]]\n",
            "\n",
            " [[1. 0. 0. 0. 0.]\n",
            "  [0. 1. 0. 0. 0.]\n",
            "  [0. 0. 1. 0. 0.]\n",
            "  [0. 0. 0. 1. 0.]\n",
            "  [0. 0. 0. 0. 1.]]], shape=(3, 5, 5), dtype=float32)\n"
          ]
        }
      ]
    },
    {
      "cell_type": "code",
      "source": [
        "fill_tensor = tf.fill(\n",
        "    dims=[2,3,4],\n",
        "    value=5,name=None\n",
        ")\n",
        "\n",
        "print(fill_tensor)"
      ],
      "metadata": {
        "colab": {
          "base_uri": "https://localhost:8080/"
        },
        "id": "s8qfdxXdvEVo",
        "outputId": "5b198423-2188-4ec9-e9ca-8dc4de521ab4"
      },
      "execution_count": 15,
      "outputs": [
        {
          "output_type": "stream",
          "name": "stdout",
          "text": [
            "tf.Tensor(\n",
            "[[[5 5 5 5]\n",
            "  [5 5 5 5]\n",
            "  [5 5 5 5]]\n",
            "\n",
            " [[5 5 5 5]\n",
            "  [5 5 5 5]\n",
            "  [5 5 5 5]]], shape=(2, 3, 4), dtype=int32)\n"
          ]
        }
      ]
    },
    {
      "cell_type": "code",
      "source": [
        "ones_tensor = tf.ones(\n",
        "    shape = (2,6,3),\n",
        "    dtype=tf.dtypes.float32,\n",
        "    name=None)\n",
        "\n",
        "print(ones_tensor)"
      ],
      "metadata": {
        "id": "KUbzbyWc0gcG",
        "outputId": "521ca021-589b-4c44-801d-b690d0c72616",
        "colab": {
          "base_uri": "https://localhost:8080/"
        }
      },
      "execution_count": 16,
      "outputs": [
        {
          "output_type": "stream",
          "name": "stdout",
          "text": [
            "tf.Tensor(\n",
            "[[[1. 1. 1.]\n",
            "  [1. 1. 1.]\n",
            "  [1. 1. 1.]\n",
            "  [1. 1. 1.]\n",
            "  [1. 1. 1.]\n",
            "  [1. 1. 1.]]\n",
            "\n",
            " [[1. 1. 1.]\n",
            "  [1. 1. 1.]\n",
            "  [1. 1. 1.]\n",
            "  [1. 1. 1.]\n",
            "  [1. 1. 1.]\n",
            "  [1. 1. 1.]]], shape=(2, 6, 3), dtype=float32)\n"
          ]
        }
      ]
    },
    {
      "cell_type": "code",
      "source": [
        "ones_like_tensor = tf.ones_like(\n",
        "    input=eye_tensor,\n",
        "    dtype=tf.dtypes.int32,\n",
        "    name=None\n",
        ")\n",
        "\n",
        "print(ones_like_tensor)"
      ],
      "metadata": {
        "id": "8NhNXQ6B1GSd",
        "outputId": "93550c81-a148-4a8a-8a21-7d2489497dfc",
        "colab": {
          "base_uri": "https://localhost:8080/"
        }
      },
      "execution_count": 17,
      "outputs": [
        {
          "output_type": "stream",
          "name": "stdout",
          "text": [
            "tf.Tensor(\n",
            "[[[1 1 1 1 1]\n",
            "  [1 1 1 1 1]\n",
            "  [1 1 1 1 1]\n",
            "  [1 1 1 1 1]\n",
            "  [1 1 1 1 1]]\n",
            "\n",
            " [[1 1 1 1 1]\n",
            "  [1 1 1 1 1]\n",
            "  [1 1 1 1 1]\n",
            "  [1 1 1 1 1]\n",
            "  [1 1 1 1 1]]\n",
            "\n",
            " [[1 1 1 1 1]\n",
            "  [1 1 1 1 1]\n",
            "  [1 1 1 1 1]\n",
            "  [1 1 1 1 1]\n",
            "  [1 1 1 1 1]]], shape=(3, 5, 5), dtype=int32)\n"
          ]
        }
      ]
    },
    {
      "cell_type": "code",
      "source": [
        "zeros_tensor = tf.zeros(\n",
        "    shape = (2,6,3),\n",
        "    dtype=tf.dtypes.float32,\n",
        "    name=None)\n",
        "\n",
        "print(zeros_tensor)"
      ],
      "metadata": {
        "id": "EvJzOEAo2FUx",
        "outputId": "8d87b724-d0ac-4bcf-f0d9-a3b7422a4719",
        "colab": {
          "base_uri": "https://localhost:8080/"
        }
      },
      "execution_count": 18,
      "outputs": [
        {
          "output_type": "stream",
          "name": "stdout",
          "text": [
            "tf.Tensor(\n",
            "[[[0. 0. 0.]\n",
            "  [0. 0. 0.]\n",
            "  [0. 0. 0.]\n",
            "  [0. 0. 0.]\n",
            "  [0. 0. 0.]\n",
            "  [0. 0. 0.]]\n",
            "\n",
            " [[0. 0. 0.]\n",
            "  [0. 0. 0.]\n",
            "  [0. 0. 0.]\n",
            "  [0. 0. 0.]\n",
            "  [0. 0. 0.]\n",
            "  [0. 0. 0.]]], shape=(2, 6, 3), dtype=float32)\n"
          ]
        }
      ]
    },
    {
      "cell_type": "code",
      "source": [
        "zeros_like_tensor = tf.zeros_like(\n",
        "    input=eye_tensor,\n",
        "    dtype=tf.dtypes.int32,\n",
        "    name=None\n",
        ")\n",
        "\n",
        "print(zeros_like_tensor)"
      ],
      "metadata": {
        "id": "fqsRwlJS12ol",
        "outputId": "ed20cd8e-88ca-46e2-8df9-fcf05b4e9163",
        "colab": {
          "base_uri": "https://localhost:8080/"
        }
      },
      "execution_count": 19,
      "outputs": [
        {
          "output_type": "stream",
          "name": "stdout",
          "text": [
            "tf.Tensor(\n",
            "[[[0 0 0 0 0]\n",
            "  [0 0 0 0 0]\n",
            "  [0 0 0 0 0]\n",
            "  [0 0 0 0 0]\n",
            "  [0 0 0 0 0]]\n",
            "\n",
            " [[0 0 0 0 0]\n",
            "  [0 0 0 0 0]\n",
            "  [0 0 0 0 0]\n",
            "  [0 0 0 0 0]\n",
            "  [0 0 0 0 0]]\n",
            "\n",
            " [[0 0 0 0 0]\n",
            "  [0 0 0 0 0]\n",
            "  [0 0 0 0 0]\n",
            "  [0 0 0 0 0]\n",
            "  [0 0 0 0 0]]], shape=(3, 5, 5), dtype=int32)\n"
          ]
        }
      ]
    },
    {
      "cell_type": "code",
      "source": [
        "print(tf.shape(zeros_like_tensor))"
      ],
      "metadata": {
        "id": "6Pw7yJOp2S1J",
        "outputId": "8b2c7c5c-0f63-4ed8-acf4-7a444af21152",
        "colab": {
          "base_uri": "https://localhost:8080/"
        }
      },
      "execution_count": 20,
      "outputs": [
        {
          "output_type": "stream",
          "name": "stdout",
          "text": [
            "tf.Tensor([3 5 5], shape=(3,), dtype=int32)\n"
          ]
        }
      ]
    },
    {
      "cell_type": "code",
      "source": [
        "t = tf.constant([[[1,1,1],[2,2,2]],[[3,3,3],[4,4,4]]])\n",
        "tf.rank(t)"
      ],
      "metadata": {
        "id": "dmF9Dm5V2eek",
        "outputId": "6c3aee3d-d341-4a78-de0b-f3c6adb8065b",
        "colab": {
          "base_uri": "https://localhost:8080/"
        }
      },
      "execution_count": 21,
      "outputs": [
        {
          "output_type": "execute_result",
          "data": {
            "text/plain": [
              "<tf.Tensor: shape=(), dtype=int32, numpy=3>"
            ]
          },
          "metadata": {},
          "execution_count": 21
        }
      ]
    },
    {
      "cell_type": "code",
      "source": [
        "t = tf.constant([[1,1,1],[2,2,2]])\n",
        "tf.rank(t)"
      ],
      "metadata": {
        "id": "P-1938JxX-Cl",
        "outputId": "f26a2ff8-45bc-4b8a-da00-a2bd45b0cdcc",
        "colab": {
          "base_uri": "https://localhost:8080/"
        }
      },
      "execution_count": 22,
      "outputs": [
        {
          "output_type": "execute_result",
          "data": {
            "text/plain": [
              "<tf.Tensor: shape=(), dtype=int32, numpy=2>"
            ]
          },
          "metadata": {},
          "execution_count": 22
        }
      ]
    },
    {
      "cell_type": "code",
      "source": [
        "t = tf.constant([[[1,1,1],[2,2,2]],[[3,3,3],[4,4,4]]])\n",
        "tf.size(t)"
      ],
      "metadata": {
        "id": "RiJuwrulYT0k",
        "outputId": "f73fd148-e469-4570-aa46-b4186ffc2723",
        "colab": {
          "base_uri": "https://localhost:8080/"
        }
      },
      "execution_count": 23,
      "outputs": [
        {
          "output_type": "execute_result",
          "data": {
            "text/plain": [
              "<tf.Tensor: shape=(), dtype=int32, numpy=12>"
            ]
          },
          "metadata": {},
          "execution_count": 23
        }
      ]
    },
    {
      "cell_type": "code",
      "source": [
        "t = tf.constant([[1,1,1],[2,2,2]])\n",
        "tf.size(t,out_type=tf.float32)"
      ],
      "metadata": {
        "id": "PtvlusKLYg15",
        "outputId": "caf9fe11-f369-4796-893b-13ea5bec9fb0",
        "colab": {
          "base_uri": "https://localhost:8080/"
        }
      },
      "execution_count": 25,
      "outputs": [
        {
          "output_type": "execute_result",
          "data": {
            "text/plain": [
              "<tf.Tensor: shape=(), dtype=float32, numpy=6.0>"
            ]
          },
          "metadata": {},
          "execution_count": 25
        }
      ]
    },
    {
      "cell_type": "code",
      "source": [
        "random_normal_tensor = tf.random.normal(\n",
        "    shape=[3,2],\n",
        "    mean=0.0,\n",
        "    stddev=1.0,\n",
        "    dtype=tf.dtypes.float32,\n",
        "    seed=None,\n",
        "    name=None\n",
        ")\n",
        "\n",
        "print(random_normal_tensor)"
      ],
      "metadata": {
        "id": "CZSip-3hYtL-",
        "outputId": "cee9cace-f492-4afb-db02-0ca3e1b62046",
        "colab": {
          "base_uri": "https://localhost:8080/"
        }
      },
      "execution_count": 34,
      "outputs": [
        {
          "output_type": "stream",
          "name": "stdout",
          "text": [
            "tf.Tensor(\n",
            "[[ 0.75690836  0.12164332]\n",
            " [-1.0512624   1.2117933 ]\n",
            " [ 1.621303    0.55317175]], shape=(3, 2), dtype=float32)\n"
          ]
        }
      ]
    },
    {
      "cell_type": "code",
      "source": [
        "random_normal_tensor = tf.random.normal(\n",
        "    shape=[3,2],\n",
        "    mean=100.0,\n",
        "    stddev=10.0,\n",
        "    dtype=tf.dtypes.float32,\n",
        "    seed=None,\n",
        "    name=None\n",
        ")\n",
        "\n",
        "print(random_normal_tensor)"
      ],
      "metadata": {
        "id": "3Y7ev24cZghE",
        "outputId": "f4346de0-258d-47b2-c464-4d9460bb65a1",
        "colab": {
          "base_uri": "https://localhost:8080/"
        }
      },
      "execution_count": 35,
      "outputs": [
        {
          "output_type": "stream",
          "name": "stdout",
          "text": [
            "tf.Tensor(\n",
            "[[ 84.28943  101.281296]\n",
            " [ 99.55417  106.340355]\n",
            " [ 88.26244   89.92159 ]], shape=(3, 2), dtype=float32)\n"
          ]
        }
      ]
    },
    {
      "cell_type": "code",
      "source": [
        "random_uniform_tensor = tf.random.uniform(\n",
        "    shape=[5,],\n",
        "    minval=0,\n",
        "    maxval=None,\n",
        "    dtype=tf.dtypes.float32,\n",
        "    seed=None,\n",
        "    name=None\n",
        ")\n",
        "\n",
        "print(random_uniform_tensor)"
      ],
      "metadata": {
        "id": "D1RztsHzZ0a4",
        "outputId": "7252adbf-b29d-41fe-d7b1-669e09dbd021",
        "colab": {
          "base_uri": "https://localhost:8080/"
        }
      },
      "execution_count": 36,
      "outputs": [
        {
          "output_type": "stream",
          "name": "stdout",
          "text": [
            "tf.Tensor([0.6052463  0.38016164 0.17291582 0.32870746 0.8433019 ], shape=(5,), dtype=float32)\n"
          ]
        }
      ]
    },
    {
      "cell_type": "code",
      "source": [
        "random_uniform_tensor = tf.random.uniform(\n",
        "    shape=[5,5],\n",
        "    minval=-50,\n",
        "    maxval=100,\n",
        "    dtype=tf.dtypes.int32,\n",
        "    seed=None,\n",
        "    name=None\n",
        ")\n",
        "\n",
        "print(random_uniform_tensor)"
      ],
      "metadata": {
        "id": "wn64LerYfO7e",
        "outputId": "29d57171-8d75-4b25-e0f3-d97db5ee81ec",
        "colab": {
          "base_uri": "https://localhost:8080/"
        }
      },
      "execution_count": 40,
      "outputs": [
        {
          "output_type": "stream",
          "name": "stdout",
          "text": [
            "tf.Tensor(\n",
            "[[ 30 -45  15  84 -44]\n",
            " [ 73   2 -35  77 -38]\n",
            " [  4  16 -41  75  16]\n",
            " [ 53 -32  -9 -41  17]\n",
            " [-24   2  59  72  60]], shape=(5, 5), dtype=int32)\n"
          ]
        }
      ]
    },
    {
      "cell_type": "code",
      "source": [
        "#function used to set the seed for the random number generators\n",
        "tf.random.set_seed(5)\n",
        "print(tf.random.uniform(shape=[3,3],maxval=5,dtype=tf.dtypes.int32,seed=10))\n",
        "print(tf.random.uniform(shape=[3,3],maxval=5,dtype=tf.dtypes.int32,seed=10))\n",
        "print(tf.random.uniform(shape=[3,3],maxval=5,dtype=tf.dtypes.int32,seed=10))"
      ],
      "metadata": {
        "id": "_yhtGFqLfaKk",
        "outputId": "0f70759f-f2cb-4456-c0f7-7c38f450a2ca",
        "colab": {
          "base_uri": "https://localhost:8080/"
        }
      },
      "execution_count": 41,
      "outputs": [
        {
          "output_type": "stream",
          "name": "stdout",
          "text": [
            "tf.Tensor(\n",
            "[[4 3 1]\n",
            " [3 0 1]\n",
            " [2 3 1]], shape=(3, 3), dtype=int32)\n",
            "tf.Tensor(\n",
            "[[1 3 3]\n",
            " [4 4 4]\n",
            " [2 4 2]], shape=(3, 3), dtype=int32)\n",
            "tf.Tensor(\n",
            "[[4 1 0]\n",
            " [2 0 1]\n",
            " [0 0 2]], shape=(3, 3), dtype=int32)\n"
          ]
        }
      ]
    },
    {
      "cell_type": "code",
      "source": [
        "tf.random.set_seed(5)\n",
        "print(tf.random.uniform(shape=[3,3],maxval=5,dtype=tf.dtypes.int32,seed=10))\n",
        "print(tf.random.uniform(shape=[3,3],maxval=5,dtype=tf.dtypes.int32,seed=10))\n",
        "print(tf.random.uniform(shape=[3,3],maxval=5,dtype=tf.dtypes.int32,seed=10))"
      ],
      "metadata": {
        "id": "n0-0UVwCgyk8",
        "outputId": "4db04139-cb00-4fb1-dc43-d4378ad583ef",
        "colab": {
          "base_uri": "https://localhost:8080/"
        }
      },
      "execution_count": 42,
      "outputs": [
        {
          "output_type": "stream",
          "name": "stdout",
          "text": [
            "tf.Tensor(\n",
            "[[4 3 1]\n",
            " [3 0 1]\n",
            " [2 3 1]], shape=(3, 3), dtype=int32)\n",
            "tf.Tensor(\n",
            "[[1 3 3]\n",
            " [4 4 4]\n",
            " [2 4 2]], shape=(3, 3), dtype=int32)\n",
            "tf.Tensor(\n",
            "[[4 1 0]\n",
            " [2 0 1]\n",
            " [0 0 2]], shape=(3, 3), dtype=int32)\n"
          ]
        }
      ]
    },
    {
      "cell_type": "code",
      "source": [
        "#produces different results\n",
        "print(tf.random.uniform(shape=[3,3],maxval=5,dtype=tf.dtypes.int32,seed=10))\n",
        "print(tf.random.uniform(shape=[3,3],maxval=5,dtype=tf.dtypes.int32,seed=10))\n",
        "print(tf.random.uniform(shape=[3,3],maxval=5,dtype=tf.dtypes.int32,seed=10))"
      ],
      "metadata": {
        "id": "RJS26nidgzyY",
        "outputId": "cd604630-ede2-4886-a31c-aa324e0683bc",
        "colab": {
          "base_uri": "https://localhost:8080/"
        }
      },
      "execution_count": 43,
      "outputs": [
        {
          "output_type": "stream",
          "name": "stdout",
          "text": [
            "tf.Tensor(\n",
            "[[4 3 2]\n",
            " [0 2 0]\n",
            " [0 1 2]], shape=(3, 3), dtype=int32)\n",
            "tf.Tensor(\n",
            "[[4 0 4]\n",
            " [2 1 0]\n",
            " [3 4 0]], shape=(3, 3), dtype=int32)\n",
            "tf.Tensor(\n",
            "[[3 0 0]\n",
            " [2 0 3]\n",
            " [0 2 2]], shape=(3, 3), dtype=int32)\n"
          ]
        }
      ]
    },
    {
      "cell_type": "code",
      "source": [],
      "metadata": {
        "id": "vAws-VbKg98k"
      },
      "execution_count": null,
      "outputs": []
    }
  ]
}
