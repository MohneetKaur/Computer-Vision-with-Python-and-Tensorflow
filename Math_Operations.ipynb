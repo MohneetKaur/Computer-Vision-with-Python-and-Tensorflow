{
  "nbformat": 4,
  "nbformat_minor": 0,
  "metadata": {
    "colab": {
      "provenance": [],
      "authorship_tag": "ABX9TyNvqT9wiVTmUg+exWM03i8l",
      "include_colab_link": true
    },
    "kernelspec": {
      "name": "python3",
      "display_name": "Python 3"
    },
    "language_info": {
      "name": "python"
    }
  },
  "cells": [
    {
      "cell_type": "markdown",
      "metadata": {
        "id": "view-in-github",
        "colab_type": "text"
      },
      "source": [
        "<a href=\"https://colab.research.google.com/github/MohneetKaur/Computer-Vision-with-Python-and-Tensorflow/blob/main/Math_Operations.ipynb\" target=\"_parent\"><img src=\"https://colab.research.google.com/assets/colab-badge.svg\" alt=\"Open In Colab\"/></a>"
      ]
    },
    {
      "cell_type": "code",
      "execution_count": 1,
      "metadata": {
        "id": "dTSh_lHr23OC"
      },
      "outputs": [],
      "source": [
        "import tensorflow as tf"
      ]
    },
    {
      "cell_type": "code",
      "source": [
        "x_abs = tf.constant([-2.25,3.25])\n",
        "tf.abs(x_abs)"
      ],
      "metadata": {
        "colab": {
          "base_uri": "https://localhost:8080/"
        },
        "id": "ZnhBpEgBEeUx",
        "outputId": "ff683dad-cd2c-48d6-d038-2474dace9d06"
      },
      "execution_count": 2,
      "outputs": [
        {
          "output_type": "execute_result",
          "data": {
            "text/plain": [
              "<tf.Tensor: shape=(2,), dtype=float32, numpy=array([2.25, 3.25], dtype=float32)>"
            ]
          },
          "metadata": {},
          "execution_count": 2
        }
      ]
    },
    {
      "cell_type": "code",
      "source": [
        "x_abs_complex = tf.constant([-2.25+4.75j])\n",
        "tf.abs(x_abs_complex)"
      ],
      "metadata": {
        "colab": {
          "base_uri": "https://localhost:8080/"
        },
        "id": "3Yf-ZWezEnSJ",
        "outputId": "5725975d-1a3b-4efd-bbb2-486cb85e8828"
      },
      "execution_count": 3,
      "outputs": [
        {
          "output_type": "execute_result",
          "data": {
            "text/plain": [
              "<tf.Tensor: shape=(1,), dtype=float64, numpy=array([5.25594901])>"
            ]
          },
          "metadata": {},
          "execution_count": 3
        }
      ]
    },
    {
      "cell_type": "code",
      "source": [
        "tf.sqrt((-2.25)**2+4.75**2)"
      ],
      "metadata": {
        "colab": {
          "base_uri": "https://localhost:8080/"
        },
        "id": "UlsehBPhFLz6",
        "outputId": "7f96fa14-f521-48ba-d6b0-50421ad16048"
      },
      "execution_count": 4,
      "outputs": [
        {
          "output_type": "execute_result",
          "data": {
            "text/plain": [
              "<tf.Tensor: shape=(), dtype=float32, numpy=5.255949>"
            ]
          },
          "metadata": {},
          "execution_count": 4
        }
      ]
    },
    {
      "cell_type": "code",
      "source": [
        "x_1 = tf.constant([5,3,6,6,7,4],dtype=tf.int32)\n",
        "x_2 = tf.constant([2,4,6,9,10,1],dtype=tf.int32)\n",
        "print(tf.add(x_1,x_2))"
      ],
      "metadata": {
        "colab": {
          "base_uri": "https://localhost:8080/"
        },
        "id": "vnKKBVSCFe6i",
        "outputId": "edbe96a0-f91c-4175-cb5d-6987404d855e"
      },
      "execution_count": 5,
      "outputs": [
        {
          "output_type": "stream",
          "name": "stdout",
          "text": [
            "tf.Tensor([ 7  7 12 15 17  5], shape=(6,), dtype=int32)\n"
          ]
        }
      ]
    },
    {
      "cell_type": "code",
      "source": [
        "x_1 = tf.constant([[5,3,6,6,7,4],[5,45,65,5,53,4]],dtype=tf.float32)\n",
        "x_2 = tf.constant([7],dtype=tf.float32)\n",
        "x_2_stretched = tf.constant([7,7,7,7,7,7],dtype=tf.float32)\n",
        "\n",
        "print(tf.math.add(x_1,x_2))\n",
        "print(tf.math.add(x_1,x_2_stretched))"
      ],
      "metadata": {
        "colab": {
          "base_uri": "https://localhost:8080/"
        },
        "id": "0FD-Wx52Hou5",
        "outputId": "3918ae7f-70f7-4521-dcd1-a99fb2d214f4"
      },
      "execution_count": 6,
      "outputs": [
        {
          "output_type": "stream",
          "name": "stdout",
          "text": [
            "tf.Tensor(\n",
            "[[12. 10. 13. 13. 14. 11.]\n",
            " [12. 52. 72. 12. 60. 11.]], shape=(2, 6), dtype=float32)\n",
            "tf.Tensor(\n",
            "[[12. 10. 13. 13. 14. 11.]\n",
            " [12. 52. 72. 12. 60. 11.]], shape=(2, 6), dtype=float32)\n"
          ]
        }
      ]
    },
    {
      "cell_type": "code",
      "source": [
        "x_1 = tf.constant([5,3,6,6,7,4],dtype=tf.int32)\n",
        "x_2 = tf.constant([2,4,6,9,10,1],dtype=tf.int32)\n",
        "print(tf.multiply(x_1,x_2))"
      ],
      "metadata": {
        "colab": {
          "base_uri": "https://localhost:8080/"
        },
        "id": "su5XBB1SGanF",
        "outputId": "bcea8667-a3de-41c4-cd19-bf15a954089c"
      },
      "execution_count": 7,
      "outputs": [
        {
          "output_type": "stream",
          "name": "stdout",
          "text": [
            "tf.Tensor([10 12 36 54 70  4], shape=(6,), dtype=int32)\n"
          ]
        }
      ]
    },
    {
      "cell_type": "code",
      "source": [
        "x_1 = tf.constant([[5,3,6,6,7,4],[5,45,65,5,53,4]],dtype=tf.float32)\n",
        "x_2 = tf.constant([7],dtype=tf.float32)\n",
        "x_2_stretched = tf.constant([7,7,7,7,7,7],dtype=tf.float32)\n",
        "\n",
        "print(tf.math.multiply(x_1,x_2))\n",
        "print(tf.math.multiply(x_1,x_2_stretched))"
      ],
      "metadata": {
        "colab": {
          "base_uri": "https://localhost:8080/"
        },
        "id": "ntHQR7qVD1V9",
        "outputId": "14d6d271-7ea2-4eb0-8977-ea1b479c935f"
      },
      "execution_count": 8,
      "outputs": [
        {
          "output_type": "stream",
          "name": "stdout",
          "text": [
            "tf.Tensor(\n",
            "[[ 35.  21.  42.  42.  49.  28.]\n",
            " [ 35. 315. 455.  35. 371.  28.]], shape=(2, 6), dtype=float32)\n",
            "tf.Tensor(\n",
            "[[ 35.  21.  42.  42.  49.  28.]\n",
            " [ 35. 315. 455.  35. 371.  28.]], shape=(2, 6), dtype=float32)\n"
          ]
        }
      ]
    },
    {
      "cell_type": "code",
      "source": [
        "x_1 = tf.constant([[5,3,6,6,7,4],],dtype=tf.float32)\n",
        "x_2 = tf.constant([[7],[5],[3]],dtype=tf.float32)\n",
        "\n",
        "\n",
        "print(x_1.shape)\n",
        "print(x_2.shape)\n",
        "print(tf.math.multiply(x_1,x_2))"
      ],
      "metadata": {
        "colab": {
          "base_uri": "https://localhost:8080/"
        },
        "id": "NFFDSRDHQj6E",
        "outputId": "04d75dbb-3359-4322-ebf7-2993b7f12c9f"
      },
      "execution_count": 9,
      "outputs": [
        {
          "output_type": "stream",
          "name": "stdout",
          "text": [
            "(1, 6)\n",
            "(3, 1)\n",
            "tf.Tensor(\n",
            "[[35. 21. 42. 42. 49. 28.]\n",
            " [25. 15. 30. 30. 35. 20.]\n",
            " [15.  9. 18. 18. 21. 12.]], shape=(3, 6), dtype=float32)\n"
          ]
        }
      ]
    },
    {
      "cell_type": "code",
      "source": [
        "x_1 = tf.constant([5,3,6,6,7,4],dtype=tf.int32)\n",
        "x_2 = tf.constant([2,4,6,9,10,1],dtype=tf.int32)\n",
        "print(tf.subtract(x_1,x_2))"
      ],
      "metadata": {
        "colab": {
          "base_uri": "https://localhost:8080/"
        },
        "id": "ID7IWuLTGjOy",
        "outputId": "763ef83f-2526-48dc-c698-6f40e0bb846e"
      },
      "execution_count": 10,
      "outputs": [
        {
          "output_type": "stream",
          "name": "stdout",
          "text": [
            "tf.Tensor([ 3 -1  0 -3 -3  3], shape=(6,), dtype=int32)\n"
          ]
        }
      ]
    },
    {
      "cell_type": "code",
      "source": [
        "x_1 = tf.constant([5,3,6,6,7,4],dtype=tf.float32)\n",
        "x_2 = tf.constant([2,4,6,9,10,0],dtype=tf.float32)\n",
        "print(tf.divide(x_1,x_2))"
      ],
      "metadata": {
        "colab": {
          "base_uri": "https://localhost:8080/"
        },
        "id": "i4Llg14jGqNX",
        "outputId": "fc40a979-ae46-45bf-bcf9-d7990e50a9cc"
      },
      "execution_count": 11,
      "outputs": [
        {
          "output_type": "stream",
          "name": "stdout",
          "text": [
            "tf.Tensor([2.5       0.75      1.        0.6666667 0.7             inf], shape=(6,), dtype=float32)\n"
          ]
        }
      ]
    },
    {
      "cell_type": "code",
      "source": [
        "x_1 = tf.constant([5,3,6,6,7,4],dtype=tf.float32)\n",
        "x_2 = tf.constant([2,4,6,9,10,0],dtype=tf.float32)\n",
        "print(tf.math.divide_no_nan(x_1,x_2))"
      ],
      "metadata": {
        "colab": {
          "base_uri": "https://localhost:8080/"
        },
        "id": "ieGQTvkCGxIv",
        "outputId": "56f3249e-614e-4eb4-cfe2-3337de4e2616"
      },
      "execution_count": 12,
      "outputs": [
        {
          "output_type": "stream",
          "name": "stdout",
          "text": [
            "tf.Tensor([2.5       0.75      1.        0.6666667 0.7       0.       ], shape=(6,), dtype=float32)\n"
          ]
        }
      ]
    },
    {
      "cell_type": "code",
      "source": [
        "x_argmax = tf.constant([2,20,30,3,6])\n",
        "\n",
        "print(x_argmax.shape)\n",
        "print(tf.math.argmax(x_argmax))"
      ],
      "metadata": {
        "colab": {
          "base_uri": "https://localhost:8080/"
        },
        "id": "8CFT07JhVt4f",
        "outputId": "aaa500f5-2777-405d-afd0-a55b5b9d3a0d"
      },
      "execution_count": 13,
      "outputs": [
        {
          "output_type": "stream",
          "name": "stdout",
          "text": [
            "(5,)\n",
            "tf.Tensor(2, shape=(), dtype=int64)\n"
          ]
        }
      ]
    },
    {
      "cell_type": "code",
      "source": [
        "x_argmax = tf.constant([[2,20,30,3,6],\n",
        "                        [3,11,16,1,80],\n",
        "                        [14,45,23,5,27]])\n",
        "\n",
        "print(x_argmax.shape)\n",
        "print(tf.math.argmax(x_argmax))\n",
        "print(tf.math.argmax(x_argmax,0))\n",
        "print(tf.math.argmax(x_argmax,1))"
      ],
      "metadata": {
        "colab": {
          "base_uri": "https://localhost:8080/"
        },
        "id": "O_huDEyiHP66",
        "outputId": "4a40e0c7-f464-4dd0-cfc1-3b5a39681302"
      },
      "execution_count": 14,
      "outputs": [
        {
          "output_type": "stream",
          "name": "stdout",
          "text": [
            "(3, 5)\n",
            "tf.Tensor([2 2 0 2 1], shape=(5,), dtype=int64)\n",
            "tf.Tensor([2 2 0 2 1], shape=(5,), dtype=int64)\n",
            "tf.Tensor([2 4 1], shape=(3,), dtype=int64)\n"
          ]
        }
      ]
    },
    {
      "cell_type": "code",
      "source": [
        "x_argmin = tf.constant([[2,20,30,3,6],\n",
        "                        [3,11,16,1,80],\n",
        "                        [14,45,23,5,27]])\n",
        "\n",
        "print(x_argmin.shape)\n",
        "print(tf.math.argmin(x_argmin))\n",
        "print(tf.math.argmin(x_argmin,0))\n",
        "print(tf.math.argmin(x_argmin,1))"
      ],
      "metadata": {
        "colab": {
          "base_uri": "https://localhost:8080/"
        },
        "id": "GqUdP9EvHgZX",
        "outputId": "f3f09ae2-1bc4-4c1b-e9bf-8b6f2bfa8ec1"
      },
      "execution_count": 15,
      "outputs": [
        {
          "output_type": "stream",
          "name": "stdout",
          "text": [
            "(3, 5)\n",
            "tf.Tensor([0 1 1 1 0], shape=(5,), dtype=int64)\n",
            "tf.Tensor([0 1 1 1 0], shape=(5,), dtype=int64)\n",
            "tf.Tensor([0 3 3], shape=(3,), dtype=int64)\n"
          ]
        }
      ]
    },
    {
      "cell_type": "code",
      "source": [
        "x=tf.constant([2,4])\n",
        "y=tf.constant([2])\n",
        "print(tf.math.equal(x,y))"
      ],
      "metadata": {
        "colab": {
          "base_uri": "https://localhost:8080/"
        },
        "id": "mscwxJDvYGH3",
        "outputId": "bc76ea13-fe07-466f-ab30-05a1ecfed813"
      },
      "execution_count": 16,
      "outputs": [
        {
          "output_type": "stream",
          "name": "stdout",
          "text": [
            "tf.Tensor([ True False], shape=(2,), dtype=bool)\n"
          ]
        }
      ]
    },
    {
      "cell_type": "code",
      "source": [
        "x=tf.constant([2,4])\n",
        "y=tf.constant([7,4])\n",
        "print(tf.math.equal(x,y))"
      ],
      "metadata": {
        "colab": {
          "base_uri": "https://localhost:8080/"
        },
        "id": "LcFWas6fYgi8",
        "outputId": "2c12e368-4674-434d-c419-db25553edb96"
      },
      "execution_count": 17,
      "outputs": [
        {
          "output_type": "stream",
          "name": "stdout",
          "text": [
            "tf.Tensor([False  True], shape=(2,), dtype=bool)\n"
          ]
        }
      ]
    },
    {
      "cell_type": "code",
      "source": [
        "x=tf.constant([[2,3],[4,5]])\n",
        "y=tf.constant([[3,3],[2,2]])\n",
        "tf.pow(x,y)"
      ],
      "metadata": {
        "colab": {
          "base_uri": "https://localhost:8080/"
        },
        "id": "dNWuPoUXYmwR",
        "outputId": "f9b6ea0e-a1da-4e7e-cfa4-59a0850422a9"
      },
      "execution_count": 18,
      "outputs": [
        {
          "output_type": "execute_result",
          "data": {
            "text/plain": [
              "<tf.Tensor: shape=(2, 2), dtype=int32, numpy=\n",
              "array([[ 8, 27],\n",
              "       [16, 25]], dtype=int32)>"
            ]
          },
          "metadata": {},
          "execution_count": 18
        }
      ]
    },
    {
      "cell_type": "code",
      "source": [
        "tensor_two_d = tf.constant([[1,2,0],\n",
        "                            [3,5,-1],\n",
        "                            [1,5,6],\n",
        "                            [2,3,8]],dtype=tf.float16)\n",
        "\n",
        "print(tf.math.reduce_sum(tensor_two_d,axis=None,keepdims=False,name=None))\n",
        "print(tf.math.reduce_sum(tensor_two_d,axis=1,keepdims=False,name=None))\n",
        "print(tf.math.reduce_sum(tensor_two_d,axis=0,keepdims=False,name=None))\n",
        "print('\\n')\n",
        "print(tf.math.reduce_max(tensor_two_d,axis=None,keepdims=False,name=None))\n",
        "print('\\n')\n",
        "print(tf.math.reduce_min(tensor_two_d,axis=None,keepdims=False,name=None))\n",
        "print('\\n')\n",
        "print(tf.math.reduce_mean(tensor_two_d,axis=None,keepdims=False,name=None))\n",
        "print('\\n')\n",
        "print(tf.math.reduce_std(tensor_two_d,axis=None,keepdims=False,name=None))\n",
        "print(tf.math.reduce_std(tensor_two_d,axis=None,keepdims=True,name=None))\n"
      ],
      "metadata": {
        "colab": {
          "base_uri": "https://localhost:8080/"
        },
        "id": "Zx9eCfA5Y4rU",
        "outputId": "617e84a5-3ab0-4a1c-de2b-ff5eaa585bb6"
      },
      "execution_count": 19,
      "outputs": [
        {
          "output_type": "stream",
          "name": "stdout",
          "text": [
            "tf.Tensor(35.0, shape=(), dtype=float16)\n",
            "tf.Tensor([ 3.  7. 12. 13.], shape=(4,), dtype=float16)\n",
            "tf.Tensor([ 7. 15. 13.], shape=(3,), dtype=float16)\n",
            "\n",
            "\n",
            "tf.Tensor(8.0, shape=(), dtype=float16)\n",
            "\n",
            "\n",
            "tf.Tensor(-1.0, shape=(), dtype=float16)\n",
            "\n",
            "\n",
            "tf.Tensor(2.916, shape=(), dtype=float16)\n",
            "\n",
            "\n",
            "tf.Tensor(2.531, shape=(), dtype=float16)\n",
            "tf.Tensor([[2.531]], shape=(1, 1), dtype=float16)\n"
          ]
        }
      ]
    },
    {
      "cell_type": "code",
      "source": [
        "x = tf.constant([0,1,50,100],dtype=tf.float16)\n",
        "tf.math.sigmoid(x)"
      ],
      "metadata": {
        "colab": {
          "base_uri": "https://localhost:8080/"
        },
        "id": "WVVUxKVAaKTp",
        "outputId": "d282bc26-dda9-44d3-e16c-530cf9fcc5ed"
      },
      "execution_count": 21,
      "outputs": [
        {
          "output_type": "execute_result",
          "data": {
            "text/plain": [
              "<tf.Tensor: shape=(4,), dtype=float16, numpy=array([0.5  , 0.731, 1.   , 1.   ], dtype=float16)>"
            ]
          },
          "metadata": {},
          "execution_count": 21
        }
      ]
    },
    {
      "cell_type": "code",
      "source": [
        "tensor_two_d = tf.constant([[1,2,0],\n",
        "                            [3,5,-1],\n",
        "                            [1,5,6],\n",
        "                            [2,3,8]],dtype=tf.float16)\n",
        "\n",
        "tf.math.top_k(tensor_two_d,k=1,sorted=True,name=None)"
      ],
      "metadata": {
        "colab": {
          "base_uri": "https://localhost:8080/"
        },
        "id": "1cDaLRu5fL4L",
        "outputId": "5db036e5-65fc-4bdd-e351-5c22581f6af2"
      },
      "execution_count": 26,
      "outputs": [
        {
          "output_type": "execute_result",
          "data": {
            "text/plain": [
              "TopKV2(values=<tf.Tensor: shape=(4, 1), dtype=float16, numpy=\n",
              "array([[2.],\n",
              "       [5.],\n",
              "       [6.],\n",
              "       [8.]], dtype=float16)>, indices=<tf.Tensor: shape=(4, 1), dtype=int32, numpy=\n",
              "array([[1],\n",
              "       [1],\n",
              "       [2],\n",
              "       [2]], dtype=int32)>)"
            ]
          },
          "metadata": {},
          "execution_count": 26
        }
      ]
    },
    {
      "cell_type": "code",
      "source": [
        "tensor_two_d = tf.constant([[1,2,0],\n",
        "                            [3,5,-1],\n",
        "                            [1,5,6],\n",
        "                            [2,3,8]],dtype=tf.float16)\n",
        "\n",
        "tf.math.top_k(tensor_two_d,k=2,sorted=True,name=None)"
      ],
      "metadata": {
        "colab": {
          "base_uri": "https://localhost:8080/"
        },
        "id": "Toy_hdVJf5f4",
        "outputId": "876ba7ba-cd57-49c9-82ab-7173d0a2229f"
      },
      "execution_count": 28,
      "outputs": [
        {
          "output_type": "execute_result",
          "data": {
            "text/plain": [
              "TopKV2(values=<tf.Tensor: shape=(4, 2), dtype=float16, numpy=\n",
              "array([[2., 1.],\n",
              "       [5., 3.],\n",
              "       [6., 5.],\n",
              "       [8., 3.]], dtype=float16)>, indices=<tf.Tensor: shape=(4, 2), dtype=int32, numpy=\n",
              "array([[1, 0],\n",
              "       [1, 0],\n",
              "       [2, 1],\n",
              "       [2, 1]], dtype=int32)>)"
            ]
          },
          "metadata": {},
          "execution_count": 28
        }
      ]
    },
    {
      "cell_type": "code",
      "source": [],
      "metadata": {
        "id": "d1R39AOLsYwu"
      },
      "execution_count": null,
      "outputs": []
    }
  ]
}