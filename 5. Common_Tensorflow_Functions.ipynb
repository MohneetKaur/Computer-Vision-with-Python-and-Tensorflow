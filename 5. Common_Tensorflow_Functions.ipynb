{
  "nbformat": 4,
  "nbformat_minor": 0,
  "metadata": {
    "colab": {
      "provenance": [],
      "authorship_tag": "ABX9TyPWlEHCsQR7G2txXrMZzJH9",
      "include_colab_link": true
    },
    "kernelspec": {
      "name": "python3",
      "display_name": "Python 3"
    },
    "language_info": {
      "name": "python"
    }
  },
  "cells": [
    {
      "cell_type": "markdown",
      "metadata": {
        "id": "view-in-github",
        "colab_type": "text"
      },
      "source": [
        "<a href=\"https://colab.research.google.com/github/MohneetKaur/Computer-Vision-with-Python-and-Tensorflow/blob/main/Common_Tensorflow_Functions.ipynb\" target=\"_parent\"><img src=\"https://colab.research.google.com/assets/colab-badge.svg\" alt=\"Open In Colab\"/></a>"
      ]
    },
    {
      "cell_type": "code",
      "source": [
        "import tensorflow as tf"
      ],
      "metadata": {
        "id": "T4_9sQ6WeAfz"
      },
      "execution_count": 2,
      "outputs": []
    },
    {
      "cell_type": "code",
      "execution_count": 3,
      "metadata": {
        "colab": {
          "base_uri": "https://localhost:8080/"
        },
        "id": "3NXjSDX_cEO0",
        "outputId": "2b4ec8a2-0d34-4de7-e137-60ecdc020750"
      },
      "outputs": [
        {
          "output_type": "stream",
          "name": "stdout",
          "text": [
            "(3, 2, 3)\n",
            "(1, 3, 2, 3) \n",
            "\n",
            "(3, 1, 2, 3) \n",
            "\n",
            "(3, 2, 1, 3) \n",
            "\n",
            "(3, 2, 3, 1)\n"
          ]
        }
      ],
      "source": [
        "# Expand dimension function\n",
        "\n",
        "tensor_three_d = tf.constant([\n",
        "    [[2,0,1],\n",
        "     [3,-4,7]],\n",
        "\n",
        "    [[3,9,10],\n",
        "     [7,10,4]],\n",
        "\n",
        "    [[3,0,14],\n",
        "     [10,1,0]]\n",
        "])\n",
        "\n",
        "print(tensor_three_d.shape)\n",
        "print(tf.expand_dims(tensor_three_d,axis=0).shape, '\\n')\n",
        "print(tf.expand_dims(tensor_three_d,axis=1).shape,'\\n')\n",
        "print(tf.expand_dims(tensor_three_d,axis=2).shape,'\\n')\n",
        "print(tf.expand_dims(tensor_three_d,axis=3).shape)"
      ]
    },
    {
      "cell_type": "code",
      "source": [
        "# Expand dimension function\n",
        "\n",
        "x = tf.constant([2,3,4,5])\n",
        "\n",
        "print(x.shape, '\\n')\n",
        "print(tf.expand_dims(x, axis=0), '\\n')\n",
        "print(tf.expand_dims(x, axis=1))"
      ],
      "metadata": {
        "colab": {
          "base_uri": "https://localhost:8080/"
        },
        "id": "xqyHDFGid8oP",
        "outputId": "dd6100b5-ae47-4f76-f881-44ec59a6c5b7"
      },
      "execution_count": 33,
      "outputs": [
        {
          "output_type": "stream",
          "name": "stdout",
          "text": [
            "(4,) \n",
            "\n",
            "tf.Tensor([[2 3 4 5]], shape=(1, 4), dtype=int32) \n",
            "\n",
            "tf.Tensor(\n",
            "[[2]\n",
            " [3]\n",
            " [4]\n",
            " [5]], shape=(4, 1), dtype=int32)\n"
          ]
        }
      ]
    },
    {
      "cell_type": "code",
      "source": [
        "# Expand dimension function\n",
        "\n",
        "x = tf.constant([[2,3,4,5]])\n",
        "\n",
        "print(x.shape, '\\n')\n",
        "print(tf.expand_dims(x, axis=1))"
      ],
      "metadata": {
        "colab": {
          "base_uri": "https://localhost:8080/"
        },
        "id": "0kpZdcmdeYWS",
        "outputId": "5fb8718c-0eb3-4e19-d88f-12a919585b4a"
      },
      "execution_count": 34,
      "outputs": [
        {
          "output_type": "stream",
          "name": "stdout",
          "text": [
            "(1, 4) \n",
            "\n",
            "tf.Tensor([[[2 3 4 5]]], shape=(1, 1, 4), dtype=int32)\n"
          ]
        }
      ]
    },
    {
      "cell_type": "code",
      "source": [
        "# Squeeze method\n",
        "\n",
        "x = tf.constant([2,3,4,5])\n",
        "\n",
        "print(x.shape, '\\n')\n",
        "\n",
        "x_expanded = tf.expand_dims(x, axis=0)\n",
        "print('Expanded Matrix:',x_expanded, '\\n')\n",
        "\n",
        "x_squeezed = tf.squeeze(x_expanded, axis=0)\n",
        "print('Squeezed Matrix:',x_squeezed, '\\n')"
      ],
      "metadata": {
        "colab": {
          "base_uri": "https://localhost:8080/"
        },
        "id": "5ok6k7pAe5Y-",
        "outputId": "7e3d2370-27f5-4563-cb49-34f22ba4bd22"
      },
      "execution_count": 36,
      "outputs": [
        {
          "output_type": "stream",
          "name": "stdout",
          "text": [
            "(4,) \n",
            "\n",
            "Expanded Matrix: tf.Tensor([[2 3 4 5]], shape=(1, 4), dtype=int32) \n",
            "\n",
            "Squeezed Matrix: tf.Tensor([2 3 4 5], shape=(4,), dtype=int32) \n",
            "\n"
          ]
        }
      ]
    },
    {
      "cell_type": "code",
      "source": [
        "# Squeeze Method\n",
        "\n",
        "x = tf.constant([[[2,3,4,5]]])\n",
        "print(x.shape, '\\n')\n",
        "\n",
        "x_expanded = tf.expand_dims(x,axis=0)\n",
        "x_squeezed  = tf.squeeze(x_expanded, axis=0)\n",
        "\n",
        "for i in range(2):\n",
        "  x_squeezed = tf.squeeze(x_squeezed, axis=0)\n",
        "\n",
        "print(x_squeezed)"
      ],
      "metadata": {
        "colab": {
          "base_uri": "https://localhost:8080/"
        },
        "id": "YxHc-Dmuf-Eg",
        "outputId": "da6de817-bc0d-4515-ce60-4bcf632bb16c"
      },
      "execution_count": 37,
      "outputs": [
        {
          "output_type": "stream",
          "name": "stdout",
          "text": [
            "(1, 1, 4) \n",
            "\n",
            "tf.Tensor([2 3 4 5], shape=(4,), dtype=int32)\n"
          ]
        }
      ]
    },
    {
      "cell_type": "code",
      "source": [
        "# Expanding and Squeezing method\n",
        "\n",
        "tensor_three_d = tf.constant([\n",
        "    [[2,0,1],\n",
        "     [3,-4,7]],\n",
        "\n",
        "    [[3,9,10],\n",
        "     [7,10,4]],\n",
        "\n",
        "    [[3,0,14],\n",
        "     [10,1,0]]\n",
        "])\n",
        "\n",
        "print('Original tensor shape:',tensor_three_d.shape)\n",
        "x_exp = tf.expand_dims(tensor_three_d,axis=3)\n",
        "print('Shape after expanding:',x_exp.shape, '\\n')\n",
        "print(tf.squeeze(x_exp, axis=3))\n"
      ],
      "metadata": {
        "colab": {
          "base_uri": "https://localhost:8080/"
        },
        "id": "0g4IdHQxgrhE",
        "outputId": "29987b42-4bd3-4ed9-a253-49b606fed6f2"
      },
      "execution_count": 8,
      "outputs": [
        {
          "output_type": "stream",
          "name": "stdout",
          "text": [
            "Original tensor shape: (3, 2, 3)\n",
            "Shape after expanding: (3, 2, 3, 1) \n",
            "\n",
            "tf.Tensor(\n",
            "[[[ 2  0  1]\n",
            "  [ 3 -4  7]]\n",
            "\n",
            " [[ 3  9 10]\n",
            "  [ 7 10  4]]\n",
            "\n",
            " [[ 3  0 14]\n",
            "  [10  1  0]]], shape=(3, 2, 3), dtype=int32)\n"
          ]
        }
      ]
    },
    {
      "cell_type": "code",
      "source": [
        "# Reshape Method\n",
        "\n",
        "tensor_three_d = tf.constant([\n",
        "    [[2,0,1],\n",
        "     [3,-4,7]],\n",
        "\n",
        "    [[3,9,10],\n",
        "     [7,10,4]],\n",
        "\n",
        "    [[3,0,14],\n",
        "     [10,1,0]]\n",
        "])\n",
        "\n",
        "print(tensor_three_d.shape)\n",
        "x_exp = tf.expand_dims(tensor_three_d,axis=3)\n",
        "\n",
        "# Reshaping the expanded tensor\n",
        "print(tf.reshape(x_exp,[3,2,3]).shape)"
      ],
      "metadata": {
        "colab": {
          "base_uri": "https://localhost:8080/"
        },
        "id": "wlVheedHD8Hi",
        "outputId": "42f4350a-4408-4454-9862-1ac4c3ec8d60"
      },
      "execution_count": 9,
      "outputs": [
        {
          "output_type": "stream",
          "name": "stdout",
          "text": [
            "(3, 2, 3)\n",
            "(3, 2, 3)\n"
          ]
        }
      ]
    },
    {
      "cell_type": "code",
      "source": [
        " # Reshape method\n",
        "\n",
        "x_reshape = tf.constant([[3,5,6,6],\n",
        "                         [4,6,-1,2]])\n",
        "\n",
        "print(tf.reshape(x_reshape, [4,-1]), '\\n')\n",
        "print(tf.reshape(x_reshape, [4,2]), '\\n')\n",
        "print(tf.reshape(x_reshape, [8]), '\\n')\n",
        "print(tf.reshape(x_reshape, [-1]), '\\n')\n",
        "print(tf.reshape(x_reshape, [4,2,1]), '\\n')"
      ],
      "metadata": {
        "colab": {
          "base_uri": "https://localhost:8080/"
        },
        "id": "dhf7BBg4F8gS",
        "outputId": "1326b309-fb36-42af-a215-52b095d9f6da"
      },
      "execution_count": 10,
      "outputs": [
        {
          "output_type": "stream",
          "name": "stdout",
          "text": [
            "tf.Tensor(\n",
            "[[ 3  5]\n",
            " [ 6  6]\n",
            " [ 4  6]\n",
            " [-1  2]], shape=(4, 2), dtype=int32) \n",
            "\n",
            "tf.Tensor(\n",
            "[[ 3  5]\n",
            " [ 6  6]\n",
            " [ 4  6]\n",
            " [-1  2]], shape=(4, 2), dtype=int32) \n",
            "\n",
            "tf.Tensor([ 3  5  6  6  4  6 -1  2], shape=(8,), dtype=int32) \n",
            "\n",
            "tf.Tensor([ 3  5  6  6  4  6 -1  2], shape=(8,), dtype=int32) \n",
            "\n",
            "tf.Tensor(\n",
            "[[[ 3]\n",
            "  [ 5]]\n",
            "\n",
            " [[ 6]\n",
            "  [ 6]]\n",
            "\n",
            " [[ 4]\n",
            "  [ 6]]\n",
            "\n",
            " [[-1]\n",
            "  [ 2]]], shape=(4, 2, 1), dtype=int32) \n",
            "\n"
          ]
        }
      ]
    },
    {
      "cell_type": "code",
      "source": [
        "# Concat method\n",
        "\n",
        "t1 = [[1, 2, 3],\n",
        "     [4, 5, 6]]\n",
        "\n",
        "t2 = [[7, 8, 9],\n",
        "     [10, 11, 12]]\n",
        "\n",
        "print(tf.constant(t1).shape)\n",
        "print(tf.constant(t2).shape, '\\n')\n",
        "\n",
        "print(tf.concat([t1, t2], axis=0), '\\n')\n",
        "print(tf.concat([t1, t2], axis=1))"
      ],
      "metadata": {
        "colab": {
          "base_uri": "https://localhost:8080/"
        },
        "id": "YAfiv6ZEHKpW",
        "outputId": "6cb43bbe-df0b-4c8e-fdb4-3f6242e7c838"
      },
      "execution_count": 11,
      "outputs": [
        {
          "output_type": "stream",
          "name": "stdout",
          "text": [
            "(2, 3)\n",
            "(2, 3) \n",
            "\n",
            "tf.Tensor(\n",
            "[[ 1  2  3]\n",
            " [ 4  5  6]\n",
            " [ 7  8  9]\n",
            " [10 11 12]], shape=(4, 3), dtype=int32) \n",
            "\n",
            "tf.Tensor(\n",
            "[[ 1  2  3  7  8  9]\n",
            " [ 4  5  6 10 11 12]], shape=(2, 6), dtype=int32)\n"
          ]
        }
      ]
    },
    {
      "cell_type": "code",
      "source": [
        "# Concat method\n",
        "\n",
        "t1 = [[[1, 2, 3],\n",
        "     [4, 5, 6]]]\n",
        "\n",
        "t2 = [[[7, 8, 9],\n",
        "     [10, 11, 12]]]\n",
        "\n",
        "print(tf.constant(t1).shape)\n",
        "print(tf.constant(t2).shape, '\\n')\n",
        "\n",
        "print(tf.concat([t1, t2], axis=0), '\\n')\n",
        "print(tf.concat([t1, t2], axis=1), '\\n')\n",
        "print(tf.concat([t1, t2], axis=2), '\\n')\n",
        "\n",
        "# Based on the axis, fix that axis, add its dimension up and the remaining dimensions remain the same"
      ],
      "metadata": {
        "colab": {
          "base_uri": "https://localhost:8080/"
        },
        "id": "PBs4qL7nIIVj",
        "outputId": "4b2879d3-d102-4cc0-8389-377d1e98ab46"
      },
      "execution_count": 12,
      "outputs": [
        {
          "output_type": "stream",
          "name": "stdout",
          "text": [
            "(1, 2, 3)\n",
            "(1, 2, 3) \n",
            "\n",
            "tf.Tensor(\n",
            "[[[ 1  2  3]\n",
            "  [ 4  5  6]]\n",
            "\n",
            " [[ 7  8  9]\n",
            "  [10 11 12]]], shape=(2, 2, 3), dtype=int32) \n",
            "\n",
            "tf.Tensor(\n",
            "[[[ 1  2  3]\n",
            "  [ 4  5  6]\n",
            "  [ 7  8  9]\n",
            "  [10 11 12]]], shape=(1, 4, 3), dtype=int32) \n",
            "\n",
            "tf.Tensor(\n",
            "[[[ 1  2  3  7  8  9]\n",
            "  [ 4  5  6 10 11 12]]], shape=(1, 2, 6), dtype=int32) \n",
            "\n"
          ]
        }
      ]
    },
    {
      "cell_type": "code",
      "source": [
        "# Stack method along axis=0\n",
        "\n",
        "print(tf.stack([t1,t2], axis=0), '\\n')\n",
        "print(tf.stack([t1,t2,t1], axis=0), '\\n')\n",
        "\n",
        "\"\"\"tf.concat() is used to concatenate tensors along an existing axis without introducing a new axis, requiring the tensors to have the same shape in all\n",
        "dimensions except the concatenation axis. Conversely, tf.stack() stacks tensors along a new axis, introducing a new axis at the specified position, and\n",
        "requires the input tensors to have the same shape in all dimensions. While tf.concat() joins tensors end-to-end along the specified axis, tf.stack() stacks\n",
        "tensors on top of each other along the new axis, resulting in a tensor with a higher rank than the input tensors.\"\"\""
      ],
      "metadata": {
        "colab": {
          "base_uri": "https://localhost:8080/",
          "height": 504
        },
        "id": "0dmbtWu4JSQK",
        "outputId": "baf7f271-1976-4657-b4cc-fc3c88394390"
      },
      "execution_count": 13,
      "outputs": [
        {
          "output_type": "stream",
          "name": "stdout",
          "text": [
            "tf.Tensor(\n",
            "[[[[ 1  2  3]\n",
            "   [ 4  5  6]]]\n",
            "\n",
            "\n",
            " [[[ 7  8  9]\n",
            "   [10 11 12]]]], shape=(2, 1, 2, 3), dtype=int32) \n",
            "\n",
            "tf.Tensor(\n",
            "[[[[ 1  2  3]\n",
            "   [ 4  5  6]]]\n",
            "\n",
            "\n",
            " [[[ 7  8  9]\n",
            "   [10 11 12]]]\n",
            "\n",
            "\n",
            " [[[ 1  2  3]\n",
            "   [ 4  5  6]]]], shape=(3, 1, 2, 3), dtype=int32) \n",
            "\n"
          ]
        },
        {
          "output_type": "execute_result",
          "data": {
            "text/plain": [
              "'tf.concat() is used to concatenate tensors along an existing axis without introducing a new axis, requiring the tensors to have the same shape in all\\ndimensions except the concatenation axis. Conversely, tf.stack() stacks tensors along a new axis, introducing a new axis at the specified position, and\\nrequires the input tensors to have the same shape in all dimensions. While tf.concat() joins tensors end-to-end along the specified axis, tf.stack() stacks\\ntensors on top of each other along the new axis, resulting in a tensor with a higher rank than the input tensors.'"
            ],
            "application/vnd.google.colaboratory.intrinsic+json": {
              "type": "string"
            }
          },
          "metadata": {},
          "execution_count": 13
        }
      ]
    },
    {
      "cell_type": "code",
      "source": [
        "# Stack method along axis=1\n",
        "\n",
        "print(tf.stack([t1,t2], axis=1), '\\n')\n",
        "print(tf.stack([t1,t2,t1], axis=1), '\\n')\n"
      ],
      "metadata": {
        "colab": {
          "base_uri": "https://localhost:8080/"
        },
        "id": "MofSbLAYQlvl",
        "outputId": "b7d23763-7180-43f9-a1d3-c57623b2e651"
      },
      "execution_count": 14,
      "outputs": [
        {
          "output_type": "stream",
          "name": "stdout",
          "text": [
            "tf.Tensor(\n",
            "[[[[ 1  2  3]\n",
            "   [ 4  5  6]]\n",
            "\n",
            "  [[ 7  8  9]\n",
            "   [10 11 12]]]], shape=(1, 2, 2, 3), dtype=int32) \n",
            "\n",
            "tf.Tensor(\n",
            "[[[[ 1  2  3]\n",
            "   [ 4  5  6]]\n",
            "\n",
            "  [[ 7  8  9]\n",
            "   [10 11 12]]\n",
            "\n",
            "  [[ 1  2  3]\n",
            "   [ 4  5  6]]]], shape=(1, 3, 2, 3), dtype=int32) \n",
            "\n"
          ]
        }
      ]
    },
    {
      "cell_type": "code",
      "source": [
        "# Stack method along axis=2\n",
        "\n",
        "print(tf.stack([t1,t2], axis=2), '\\n')\n",
        "print(tf.stack([t1,t2,t1], axis=2), '\\n')"
      ],
      "metadata": {
        "colab": {
          "base_uri": "https://localhost:8080/"
        },
        "id": "CuxLXmwuRy6w",
        "outputId": "ec43b5ca-5d56-4022-d78f-c1ddc27f8bbd"
      },
      "execution_count": 15,
      "outputs": [
        {
          "output_type": "stream",
          "name": "stdout",
          "text": [
            "tf.Tensor(\n",
            "[[[[ 1  2  3]\n",
            "   [ 7  8  9]]\n",
            "\n",
            "  [[ 4  5  6]\n",
            "   [10 11 12]]]], shape=(1, 2, 2, 3), dtype=int32) \n",
            "\n",
            "tf.Tensor(\n",
            "[[[[ 1  2  3]\n",
            "   [ 7  8  9]\n",
            "   [ 1  2  3]]\n",
            "\n",
            "  [[ 4  5  6]\n",
            "   [10 11 12]\n",
            "   [ 4  5  6]]]], shape=(1, 2, 3, 3), dtype=int32) \n",
            "\n"
          ]
        }
      ]
    },
    {
      "cell_type": "code",
      "source": [
        "\"\"\"\n",
        "4,3 - 4,3 --> 2,4,3 (axis=0)\n",
        "4,3 - 4,3 --> 4,2,3 (axis=1)\n",
        "4,3 - 4,3 --> 4,3,2 (axis=2)\n",
        "\"\"\""
      ],
      "metadata": {
        "colab": {
          "base_uri": "https://localhost:8080/",
          "height": 53
        },
        "id": "bV7_d9cxSEbO",
        "outputId": "1e5fad31-d322-4a9f-81de-828f4da31800"
      },
      "execution_count": 16,
      "outputs": [
        {
          "output_type": "execute_result",
          "data": {
            "text/plain": [
              "'\\n4,3 - 4,3 --> 2,4,3 (axis=0)\\n4,3 - 4,3 --> 4,2,3 (axis=1)\\n4,3 - 4,3 --> 4,3,2 (axis=2)\\n'"
            ],
            "application/vnd.google.colaboratory.intrinsic+json": {
              "type": "string"
            }
          },
          "metadata": {},
          "execution_count": 16
        }
      ]
    },
    {
      "cell_type": "code",
      "source": [
        "# Stack method\n",
        "\n",
        "t1 = [[1,2,3],\n",
        "      [4,5,6],\n",
        "      [7,8,9],\n",
        "      [10,11,12]]\n",
        "\n",
        "t2 = [[1,2,3],\n",
        "      [4,5,6],\n",
        "      [7,8,9],\n",
        "      [10,11,12]]\n",
        "\n",
        "print(tf.stack([t1,t2], axis=0),'\\n')\n",
        "print(tf.stack([t1,t2], axis=1),'\\n')"
      ],
      "metadata": {
        "colab": {
          "base_uri": "https://localhost:8080/"
        },
        "id": "vCe5sb9HTWU2",
        "outputId": "17bd091c-16dc-49d8-a47c-d8be6069af02"
      },
      "execution_count": 17,
      "outputs": [
        {
          "output_type": "stream",
          "name": "stdout",
          "text": [
            "tf.Tensor(\n",
            "[[[ 1  2  3]\n",
            "  [ 4  5  6]\n",
            "  [ 7  8  9]\n",
            "  [10 11 12]]\n",
            "\n",
            " [[ 1  2  3]\n",
            "  [ 4  5  6]\n",
            "  [ 7  8  9]\n",
            "  [10 11 12]]], shape=(2, 4, 3), dtype=int32) \n",
            "\n",
            "tf.Tensor(\n",
            "[[[ 1  2  3]\n",
            "  [ 1  2  3]]\n",
            "\n",
            " [[ 4  5  6]\n",
            "  [ 4  5  6]]\n",
            "\n",
            " [[ 7  8  9]\n",
            "  [ 7  8  9]]\n",
            "\n",
            " [[10 11 12]\n",
            "  [10 11 12]]], shape=(4, 2, 3), dtype=int32) \n",
            "\n"
          ]
        }
      ]
    },
    {
      "cell_type": "code",
      "source": [
        "print(tf.stack([t1,t2,t1], axis=0),'\\n')\n",
        "print(tf.stack([t1,t2,t1], axis=1),'\\n')"
      ],
      "metadata": {
        "colab": {
          "base_uri": "https://localhost:8080/"
        },
        "id": "VLDVs8HnWz0I",
        "outputId": "54d9b688-af5a-4fa4-ecdf-df468d427b4c"
      },
      "execution_count": 18,
      "outputs": [
        {
          "output_type": "stream",
          "name": "stdout",
          "text": [
            "tf.Tensor(\n",
            "[[[ 1  2  3]\n",
            "  [ 4  5  6]\n",
            "  [ 7  8  9]\n",
            "  [10 11 12]]\n",
            "\n",
            " [[ 1  2  3]\n",
            "  [ 4  5  6]\n",
            "  [ 7  8  9]\n",
            "  [10 11 12]]\n",
            "\n",
            " [[ 1  2  3]\n",
            "  [ 4  5  6]\n",
            "  [ 7  8  9]\n",
            "  [10 11 12]]], shape=(3, 4, 3), dtype=int32) \n",
            "\n",
            "tf.Tensor(\n",
            "[[[ 1  2  3]\n",
            "  [ 1  2  3]\n",
            "  [ 1  2  3]]\n",
            "\n",
            " [[ 4  5  6]\n",
            "  [ 4  5  6]\n",
            "  [ 4  5  6]]\n",
            "\n",
            " [[ 7  8  9]\n",
            "  [ 7  8  9]\n",
            "  [ 7  8  9]]\n",
            "\n",
            " [[10 11 12]\n",
            "  [10 11 12]\n",
            "  [10 11 12]]], shape=(4, 3, 3), dtype=int32) \n",
            "\n"
          ]
        }
      ]
    },
    {
      "cell_type": "code",
      "source": [
        "print(tf.stack([t1,t2,t1], axis=2),'\\n')\n",
        "print(tf.stack([t1,t2,t1], axis=2),'\\n')"
      ],
      "metadata": {
        "colab": {
          "base_uri": "https://localhost:8080/"
        },
        "id": "25UC1JUpXfMo",
        "outputId": "b9317dfa-eaf9-4f18-b815-cf45b121a7a7"
      },
      "execution_count": 19,
      "outputs": [
        {
          "output_type": "stream",
          "name": "stdout",
          "text": [
            "tf.Tensor(\n",
            "[[[ 1  1  1]\n",
            "  [ 2  2  2]\n",
            "  [ 3  3  3]]\n",
            "\n",
            " [[ 4  4  4]\n",
            "  [ 5  5  5]\n",
            "  [ 6  6  6]]\n",
            "\n",
            " [[ 7  7  7]\n",
            "  [ 8  8  8]\n",
            "  [ 9  9  9]]\n",
            "\n",
            " [[10 10 10]\n",
            "  [11 11 11]\n",
            "  [12 12 12]]], shape=(4, 3, 3), dtype=int32) \n",
            "\n",
            "tf.Tensor(\n",
            "[[[ 1  1  1]\n",
            "  [ 2  2  2]\n",
            "  [ 3  3  3]]\n",
            "\n",
            " [[ 4  4  4]\n",
            "  [ 5  5  5]\n",
            "  [ 6  6  6]]\n",
            "\n",
            " [[ 7  7  7]\n",
            "  [ 8  8  8]\n",
            "  [ 9  9  9]]\n",
            "\n",
            " [[10 10 10]\n",
            "  [11 11 11]\n",
            "  [12 12 12]]], shape=(4, 3, 3), dtype=int32) \n",
            "\n"
          ]
        }
      ]
    },
    {
      "cell_type": "code",
      "source": [
        "# Same can be performed using expand_dims method\n",
        "\n",
        "print(tf.stack([t1,t2],axis=0), '\\n')\n",
        "\n",
        "print(tf.concat([tf.expand_dims(t,axis=0) for t in [t1,t2]],axis=0))"
      ],
      "metadata": {
        "colab": {
          "base_uri": "https://localhost:8080/"
        },
        "id": "QZk6arVdXhZq",
        "outputId": "be931fa5-c099-4903-95f1-42c1a9df8155"
      },
      "execution_count": 20,
      "outputs": [
        {
          "output_type": "stream",
          "name": "stdout",
          "text": [
            "tf.Tensor(\n",
            "[[[ 1  2  3]\n",
            "  [ 4  5  6]\n",
            "  [ 7  8  9]\n",
            "  [10 11 12]]\n",
            "\n",
            " [[ 1  2  3]\n",
            "  [ 4  5  6]\n",
            "  [ 7  8  9]\n",
            "  [10 11 12]]], shape=(2, 4, 3), dtype=int32) \n",
            "\n",
            "tf.Tensor(\n",
            "[[[ 1  2  3]\n",
            "  [ 4  5  6]\n",
            "  [ 7  8  9]\n",
            "  [10 11 12]]\n",
            "\n",
            " [[ 1  2  3]\n",
            "  [ 4  5  6]\n",
            "  [ 7  8  9]\n",
            "  [10 11 12]]], shape=(2, 4, 3), dtype=int32)\n"
          ]
        }
      ]
    },
    {
      "cell_type": "code",
      "source": [
        "# Padding method\n",
        "\n",
        "t = tf.constant([[1, 2, 3], [4, 5, 6]])\n",
        "\n",
        "paddings = tf.constant([\n",
        "    [1, 1,], # One row above, one row below\n",
        "     [2, 4] # Two columns left, four columns right\n",
        "    ])\n",
        "\n",
        "# 'constant_values' is 0.\n",
        "# rank of 't' is 2.\n",
        "\n",
        "print(tf.pad(t, paddings, \"CONSTANT\"), '\\n')\n",
        "\n",
        "print(tf.pad(t, paddings, \"CONSTANT\", constant_values=3))"
      ],
      "metadata": {
        "colab": {
          "base_uri": "https://localhost:8080/"
        },
        "id": "79NRe6iwYfOE",
        "outputId": "01003bbc-7958-44b7-d6f5-a71782aff136"
      },
      "execution_count": 21,
      "outputs": [
        {
          "output_type": "stream",
          "name": "stdout",
          "text": [
            "tf.Tensor(\n",
            "[[0 0 0 0 0 0 0 0 0]\n",
            " [0 0 1 2 3 0 0 0 0]\n",
            " [0 0 4 5 6 0 0 0 0]\n",
            " [0 0 0 0 0 0 0 0 0]], shape=(4, 9), dtype=int32) \n",
            "\n",
            "tf.Tensor(\n",
            "[[3 3 3 3 3 3 3 3 3]\n",
            " [3 3 1 2 3 3 3 3 3]\n",
            " [3 3 4 5 6 3 3 3 3]\n",
            " [3 3 3 3 3 3 3 3 3]], shape=(4, 9), dtype=int32)\n"
          ]
        }
      ]
    },
    {
      "cell_type": "code",
      "source": [
        "t = tf.constant([[1, 2, 3], [4, 5, 6]])\n",
        "\n",
        "paddings = tf.constant([\n",
        "    [1, 1,], # One row above, one row below\n",
        "     [2, 2] # Two columns left, two columns right\n",
        "    ])\n",
        "\n",
        "tf.pad(t, paddings, \"REFLECT\")"
      ],
      "metadata": {
        "colab": {
          "base_uri": "https://localhost:8080/"
        },
        "id": "cyFs5hW3Y_Sl",
        "outputId": "d86136be-f69d-4a22-886f-1520b8a51837"
      },
      "execution_count": 22,
      "outputs": [
        {
          "output_type": "execute_result",
          "data": {
            "text/plain": [
              "<tf.Tensor: shape=(4, 7), dtype=int32, numpy=\n",
              "array([[6, 5, 4, 5, 6, 5, 4],\n",
              "       [3, 2, 1, 2, 3, 2, 1],\n",
              "       [6, 5, 4, 5, 6, 5, 4],\n",
              "       [3, 2, 1, 2, 3, 2, 1]], dtype=int32)>"
            ]
          },
          "metadata": {},
          "execution_count": 22
        }
      ]
    },
    {
      "cell_type": "code",
      "source": [
        "tf.pad(t, paddings, \"SYMMETRIC\")"
      ],
      "metadata": {
        "colab": {
          "base_uri": "https://localhost:8080/"
        },
        "id": "rMrgvq4xa1Gg",
        "outputId": "7fe22d59-b927-4803-9ffe-902968088f4b"
      },
      "execution_count": 23,
      "outputs": [
        {
          "output_type": "execute_result",
          "data": {
            "text/plain": [
              "<tf.Tensor: shape=(4, 7), dtype=int32, numpy=\n",
              "array([[2, 1, 1, 2, 3, 3, 2],\n",
              "       [2, 1, 1, 2, 3, 3, 2],\n",
              "       [5, 4, 4, 5, 6, 6, 5],\n",
              "       [5, 4, 4, 5, 6, 6, 5]], dtype=int32)>"
            ]
          },
          "metadata": {},
          "execution_count": 23
        }
      ]
    },
    {
      "cell_type": "code",
      "source": [
        "# Gather method\n",
        "\n",
        "params = tf.constant(['p0', 'p1', 'p2', 'p3', 'p4', 'p5'])\n",
        "\n",
        "print(params[1:4].numpy(),'\\n')\n",
        "\n",
        "print(tf.gather(params, tf.range(1,4)).numpy(),'\\n')\n",
        "\n",
        "print(tf.gather(params, [0,5,3]).numpy())"
      ],
      "metadata": {
        "colab": {
          "base_uri": "https://localhost:8080/"
        },
        "id": "1zMWIFEta2CT",
        "outputId": "501b39eb-467a-43de-c9c5-98b33247147e"
      },
      "execution_count": 24,
      "outputs": [
        {
          "output_type": "stream",
          "name": "stdout",
          "text": [
            "[b'p1' b'p2' b'p3'] \n",
            "\n",
            "[b'p1' b'p2' b'p3'] \n",
            "\n",
            "[b'p0' b'p5' b'p3']\n"
          ]
        }
      ]
    },
    {
      "cell_type": "code",
      "source": [
        "params = tf.constant([[0, 1.0, 2.0],\n",
        "                      [10.0, 11.0, 12.0],\n",
        "                      [20.0, 21.0, 22.0],\n",
        "                      [30.0, 31.0, 32.0]])\n",
        "\n",
        "print(tf.gather(params, indices=[3,1]).numpy(),'\\n') # fetched 3rd row and 1st row and default axis=0\n",
        "\n",
        "print(tf.gather(params, indices=[2,1], axis=1).numpy(),'\\n')"
      ],
      "metadata": {
        "colab": {
          "base_uri": "https://localhost:8080/"
        },
        "id": "BuKLJamwcbFE",
        "outputId": "e2da9f54-baad-4d21-ea8c-92dd8adb9357"
      },
      "execution_count": 25,
      "outputs": [
        {
          "output_type": "stream",
          "name": "stdout",
          "text": [
            "[[30. 31. 32.]\n",
            " [10. 11. 12.]] \n",
            "\n",
            "[[ 2.  1.]\n",
            " [12. 11.]\n",
            " [22. 21.]\n",
            " [32. 31.]] \n",
            "\n"
          ]
        }
      ]
    },
    {
      "cell_type": "code",
      "source": [
        "params = tf.constant([\n",
        "    [[0, 1.0, 2.0],\n",
        "    [10.0, 11.0, 12.0],\n",
        "    [20.0, 21.0, 22.0],\n",
        "    [30.0, 31.0, 32.0]]\n",
        "  ])\n",
        "\n",
        "print(params.shape,'\\n')\n",
        "\n",
        "print(tf.gather(params, indices=[2,1], axis=1))"
      ],
      "metadata": {
        "colab": {
          "base_uri": "https://localhost:8080/"
        },
        "id": "PuDjxBe4dg7j",
        "outputId": "d5cd454b-c60f-455f-9449-162c57ad0f63"
      },
      "execution_count": 26,
      "outputs": [
        {
          "output_type": "stream",
          "name": "stdout",
          "text": [
            "(1, 4, 3) \n",
            "\n",
            "tf.Tensor(\n",
            "[[[20. 21. 22.]\n",
            "  [10. 11. 12.]]], shape=(1, 2, 3), dtype=float32)\n"
          ]
        }
      ]
    },
    {
      "cell_type": "code",
      "source": [
        "params = tf.constant([\n",
        "    [[0, 1.0, 2.0],\n",
        "    [10.0, 11.0, 12.0],\n",
        "    [20.0, 21.0, 22.0],\n",
        "    [30.0, 31.0, 32.0]],\n",
        "\n",
        "   [[0, 1.0, 2.0],\n",
        "    [10.0, 11.0, 12.0],\n",
        "    [20.0, 21.0, 22.0],\n",
        "    [30.0, 31.0, 32.0]]\n",
        "\n",
        "  ])\n",
        "\n",
        "\n",
        "print(params.shape,'\\n')\n",
        "\n",
        "print(tf.gather(params, indices=[1,2], axis=2))"
      ],
      "metadata": {
        "colab": {
          "base_uri": "https://localhost:8080/"
        },
        "id": "KKmwJ0FOeKQl",
        "outputId": "b77e57a7-8628-42b2-8321-54913fc54f1f"
      },
      "execution_count": 27,
      "outputs": [
        {
          "output_type": "stream",
          "name": "stdout",
          "text": [
            "(2, 4, 3) \n",
            "\n",
            "tf.Tensor(\n",
            "[[[ 1.  2.]\n",
            "  [11. 12.]\n",
            "  [21. 22.]\n",
            "  [31. 32.]]\n",
            "\n",
            " [[ 1.  2.]\n",
            "  [11. 12.]\n",
            "  [21. 22.]\n",
            "  [31. 32.]]], shape=(2, 4, 2), dtype=float32)\n"
          ]
        }
      ]
    },
    {
      "cell_type": "code",
      "source": [
        "# gather_nd method\n",
        "\n",
        "indices = [[1],\n",
        "           [2]]\n",
        "\n",
        "params = [['a','b'],\n",
        "          ['c','d'],\n",
        "          ['e','f']]\n",
        "\n",
        "tf.gather_nd(params, indices)"
      ],
      "metadata": {
        "id": "kN_88zhvfcSr",
        "colab": {
          "base_uri": "https://localhost:8080/"
        },
        "outputId": "bcd73773-6a91-4688-f6d1-b47d8cdda6e1"
      },
      "execution_count": 28,
      "outputs": [
        {
          "output_type": "execute_result",
          "data": {
            "text/plain": [
              "<tf.Tensor: shape=(2, 2), dtype=string, numpy=\n",
              "array([[b'c', b'd'],\n",
              "       [b'e', b'f']], dtype=object)>"
            ]
          },
          "metadata": {},
          "execution_count": 28
        }
      ]
    },
    {
      "cell_type": "code",
      "source": [
        "indices = [[0,1],[1,0]]\n",
        "\n",
        "params = [[['a0','b0'],\n",
        "           ['c0','d0']],\n",
        "\n",
        "          [['a1','b1'],\n",
        "           ['c1','d1']]]\n",
        "\n",
        "tf.gather_nd(params, indices)"
      ],
      "metadata": {
        "colab": {
          "base_uri": "https://localhost:8080/"
        },
        "id": "GWk1qh4_T6fo",
        "outputId": "a7e36493-365f-4cdd-87ee-d7e35189143b"
      },
      "execution_count": 29,
      "outputs": [
        {
          "output_type": "execute_result",
          "data": {
            "text/plain": [
              "<tf.Tensor: shape=(2, 2), dtype=string, numpy=\n",
              "array([[b'c0', b'd0'],\n",
              "       [b'a1', b'b1']], dtype=object)>"
            ]
          },
          "metadata": {},
          "execution_count": 29
        }
      ]
    },
    {
      "cell_type": "code",
      "source": [
        "indices = [[[0,1],\n",
        "            [1,0]],\n",
        "\n",
        "           [[0,0],\n",
        "            [1,1]]]\n",
        "\n",
        "params = [[['a0','b0'],\n",
        "           ['c0','d0']],\n",
        "\n",
        "          [['a1','b1'],\n",
        "           ['c1','d1']]]\n",
        "\n",
        "tf.gather_nd(params, indices)"
      ],
      "metadata": {
        "colab": {
          "base_uri": "https://localhost:8080/"
        },
        "id": "6J6DtOwkMRO5",
        "outputId": "c265263a-a6b6-44a2-c069-192e42e490b2"
      },
      "execution_count": 30,
      "outputs": [
        {
          "output_type": "execute_result",
          "data": {
            "text/plain": [
              "<tf.Tensor: shape=(2, 2, 2), dtype=string, numpy=\n",
              "array([[[b'c0', b'd0'],\n",
              "        [b'a1', b'b1']],\n",
              "\n",
              "       [[b'a0', b'b0'],\n",
              "        [b'c1', b'd1']]], dtype=object)>"
            ]
          },
          "metadata": {},
          "execution_count": 30
        }
      ]
    },
    {
      "cell_type": "code",
      "source": [
        "indices = [[[0,1],\n",
        "            [1,0]],\n",
        "\n",
        "           [[0,0],\n",
        "            [1,1]]]\n",
        "\n",
        "params = [[['a0','b0'],\n",
        "           ['c0','d0']],\n",
        "\n",
        "          [['a1','b1'],\n",
        "           ['c1','d1']]]\n",
        "\n",
        "tf.gather_nd(params, indices, batch_dims=1)"
      ],
      "metadata": {
        "colab": {
          "base_uri": "https://localhost:8080/"
        },
        "id": "WluK0K1WOQp4",
        "outputId": "ab50faac-1a76-43d2-c741-1129f8be5d8a"
      },
      "execution_count": 31,
      "outputs": [
        {
          "output_type": "execute_result",
          "data": {
            "text/plain": [
              "<tf.Tensor: shape=(2, 2), dtype=string, numpy=\n",
              "array([[b'b0', b'c0'],\n",
              "       [b'a1', b'd1']], dtype=object)>"
            ]
          },
          "metadata": {},
          "execution_count": 31
        }
      ]
    },
    {
      "cell_type": "code",
      "source": [],
      "metadata": {
        "id": "MA-JUWCzPMju"
      },
      "execution_count": null,
      "outputs": []
    }
  ]
}
