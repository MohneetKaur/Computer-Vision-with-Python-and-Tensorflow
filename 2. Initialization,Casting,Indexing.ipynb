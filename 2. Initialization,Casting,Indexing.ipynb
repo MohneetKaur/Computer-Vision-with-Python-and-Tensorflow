{
  "nbformat": 4,
  "nbformat_minor": 0,
  "metadata": {
    "colab": {
      "provenance": [],
      "authorship_tag": "ABX9TyPhBS+hpGW82wurHbyW3MFm",
      "include_colab_link": true
    },
    "kernelspec": {
      "name": "python3",
      "display_name": "Python 3"
    },
    "language_info": {
      "name": "python"
    }
  },
  "cells": [
    {
      "cell_type": "markdown",
      "metadata": {
        "id": "view-in-github",
        "colab_type": "text"
      },
      "source": [
        "<a href=\"https://colab.research.google.com/github/MohneetKaur/Computer-Vision-with-Python-and-Tensorflow/blob/main/Initialization%2CCasting%2CIndexing.ipynb\" target=\"_parent\"><img src=\"https://colab.research.google.com/assets/colab-badge.svg\" alt=\"Open In Colab\"/></a>"
      ]
    },
    {
      "cell_type": "code",
      "execution_count": 1,
      "metadata": {
        "id": "C5I8NJiBkCHg"
      },
      "outputs": [],
      "source": [
        "import tensorflow as tf"
      ]
    },
    {
      "cell_type": "code",
      "source": [
        "tensor_indexed = tf.constant([3,6,2,4,6,66,7])\n",
        "print(tensor_indexed)\n",
        "print('\\n')\n",
        "print(tensor_indexed[0:4])\n",
        "print('\\n')\n",
        "print(tensor_indexed[1:5+1])\n",
        "print('\\n')\n",
        "print(tensor_indexed[0:7:2])\n",
        "print('\\n')\n",
        "print(tensor_indexed[:4])\n",
        "print('\\n')\n",
        "print(tensor_indexed[4:])\n",
        "print('\\n')\n",
        "print(tensor_indexed[2:-2])"
      ],
      "metadata": {
        "colab": {
          "base_uri": "https://localhost:8080/"
        },
        "id": "Zx9-rz0jkjU0",
        "outputId": "3789b2af-e090-4f8e-c857-ae84a3ca642f"
      },
      "execution_count": 2,
      "outputs": [
        {
          "output_type": "stream",
          "name": "stdout",
          "text": [
            "tf.Tensor([ 3  6  2  4  6 66  7], shape=(7,), dtype=int32)\n",
            "\n",
            "\n",
            "tf.Tensor([3 6 2 4], shape=(4,), dtype=int32)\n",
            "\n",
            "\n",
            "tf.Tensor([ 6  2  4  6 66], shape=(5,), dtype=int32)\n",
            "\n",
            "\n",
            "tf.Tensor([3 2 6 7], shape=(4,), dtype=int32)\n",
            "\n",
            "\n",
            "tf.Tensor([3 6 2 4], shape=(4,), dtype=int32)\n",
            "\n",
            "\n",
            "tf.Tensor([ 6 66  7], shape=(3,), dtype=int32)\n",
            "\n",
            "\n",
            "tf.Tensor([2 4 6], shape=(3,), dtype=int32)\n"
          ]
        }
      ]
    },
    {
      "cell_type": "code",
      "source": [
        "tensor_two_d = tf.constant(\n",
        "    [[1,2,0],\n",
        "     [3,5,-1],\n",
        "     [1,5,6],\n",
        "     [2,3,8]]\n",
        ")\n",
        "\n",
        "print(tensor_two_d[0:2,:])"
      ],
      "metadata": {
        "colab": {
          "base_uri": "https://localhost:8080/"
        },
        "id": "o13XqpZUkrTC",
        "outputId": "d9b641c6-f303-4c1d-a0b2-902558b4e7ae"
      },
      "execution_count": 3,
      "outputs": [
        {
          "output_type": "stream",
          "name": "stdout",
          "text": [
            "tf.Tensor(\n",
            "[[ 1  2  0]\n",
            " [ 3  5 -1]], shape=(2, 3), dtype=int32)\n"
          ]
        }
      ]
    },
    {
      "cell_type": "code",
      "source": [
        "tensor_three_d = tf.constant([\n",
        "    [[1,2,0],\n",
        "     [3,5,-1],\n",
        "     [1,5,6],\n",
        "     [2,3,8]],\n",
        "    [[2,7,8],\n",
        "     [0,0,0],\n",
        "     [3,2,1],\n",
        "     [4,6,9]]\n",
        "])\n",
        "\n",
        "print(tensor_three_d[0,0:2,0:2])\n",
        "print('\\n')\n",
        "print(tensor_three_d[...,:,2])"
      ],
      "metadata": {
        "colab": {
          "base_uri": "https://localhost:8080/"
        },
        "id": "yag0cW2pmY67",
        "outputId": "e063a8d0-3ef2-490c-d861-7a5679a9d345"
      },
      "execution_count": 4,
      "outputs": [
        {
          "output_type": "stream",
          "name": "stdout",
          "text": [
            "tf.Tensor(\n",
            "[[1 2]\n",
            " [3 5]], shape=(2, 2), dtype=int32)\n",
            "\n",
            "\n",
            "tf.Tensor(\n",
            "[[ 0 -1  6  8]\n",
            " [ 8  0  1  9]], shape=(2, 4), dtype=int32)\n"
          ]
        }
      ]
    },
    {
      "cell_type": "code",
      "source": [],
      "metadata": {
        "id": "aN_MW_1hEIjs"
      },
      "execution_count": 4,
      "outputs": []
    }
  ]
}
